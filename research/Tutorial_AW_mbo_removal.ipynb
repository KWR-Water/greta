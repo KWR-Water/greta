{
 "cells": [
  {
   "cell_type": "markdown",
   "metadata": {},
   "source": [
    "--------------------------------------------------------------------------------\n",
    "Travel time calculation using AnalyticalWell class, combined with 'omp removal'\n",
    "--------------------------------------------------------------------------------\n",
    "\n",
    "Example to calculate the travel time distribution per geological layer for a \n",
    ".. phreatic scheme, and to calculate the microbial organism removal. \n",
    ".. For an extensive description of the steps, see the basic example [AnalyticalWell & OMP removal](https://github.com/KWR-Water/sutra2/blob/main/research/Tutorial_AW_omp_removal.ipynb).\n",
    "\n",
    "________________________________________\n",
    "\n",
    "Import packages\n",
    "-----------------\n",
    "\n",
    "First we import the necessary python packages"
   ]
  },
  {
   "cell_type": "code",
   "execution_count": 257,
   "metadata": {},
   "outputs": [
    {
     "name": "stdout",
     "output_type": "stream",
     "text": [
      "The autoreload extension is already loaded. To reload it, use:\n",
      "  %reload_ext autoreload\n"
     ]
    }
   ],
   "source": [
    "import pandas as pd\n",
    "from pathlib import Path\n",
    "from set_cwd_to_project_root import project_root\n",
    "\n",
    "import matplotlib.pyplot as plt\n",
    "import numpy as np\n",
    "import pandas as pd\n",
    "import os\n",
    "from pandas import read_csv\n",
    "from pandas import read_excel\n",
    "import math\n",
    "from scipy.special import kn as besselk\n",
    "import sutra2.Analytical_Well as AW\n",
    "import sutra2.ModPath_Well as mpw\n",
    "import sutra2.Transport_Removal as TR\n",
    "\n",
    "import warnings \n",
    "warnings.filterwarnings(action= 'ignore')\n",
    "\n",
    "# # get directory of this file\n",
    "# path = Path(__file__).parent\n",
    "%load_ext autoreload\n",
    "%autoreload 2"
   ]
  },
  {
   "cell_type": "markdown",
   "metadata": {},
   "source": [
    "Step 1: Define the HydroChemicalSchematisation\n",
    "-----------------------------------------------\n",
    "The first step is to define the hydrogeochemistry of the system using the HydroChemicalSchematisation class.\n",
    "\n",
    "Lets start with a simple example defining a HydroChemicalSchematisation object for a phreatic aquifer:"
   ]
  },
  {
   "cell_type": "code",
   "execution_count": 258,
   "metadata": {},
   "outputs": [],
   "source": [
    "phreatic_schematisation = AW.HydroChemicalSchematisation(schematisation_type='phreatic',\n",
    "                                                        computation_method='analytical',\n",
    "                                                        well_discharge=-7500, #m3/day\n",
    "                                                        recharge_rate=0.0008, #m/day\n",
    "                                                        thickness_vadose_zone_at_boundary=5, #m\n",
    "                                                        thickness_shallow_aquifer=10,  #m\n",
    "                                                        thickness_target_aquifer=40, #m\n",
    "                                                        hor_permeability_target_aquifer=35, #m/day\n",
    "                                                        redox_vadose_zone='anoxic',\n",
    "                                                        redox_shallow_aquifer='anoxic',\n",
    "                                                        redox_target_aquifer='deeply_anoxic',\n",
    "                                                        pH_target_aquifer=7.,\n",
    "                                                        temp_water=11.,\n",
    "                                                        diffuse_input_concentration = 100, #ug/L\n",
    "                                                        )\n"
   ]
  },
  {
   "cell_type": "markdown",
   "metadata": {},
   "source": [
    "If not defined, default values are used for the rest of the parameters. To view all parameters in the schematisation:"
   ]
  },
  {
   "cell_type": "code",
   "execution_count": 259,
   "metadata": {},
   "outputs": [
    {
     "data": {
      "text/plain": [
       "{'schematisation_type': 'phreatic',\n",
       " 'computation_method': 'analytical',\n",
       " 'removal_function': 'omp',\n",
       " 'what_to_export': 'all',\n",
       " 'well_name': 'well1',\n",
       " 'temp_correction_Koc': True,\n",
       " 'temp_correction_halflife': True,\n",
       " 'biodegradation_sorbed_phase': True,\n",
       " 'compute_thickness_vadose_zone': True,\n",
       " 'ground_surface': 0.0,\n",
       " 'thickness_vadose_zone_at_boundary': 5,\n",
       " 'bottom_vadose_zone_at_boundary': -5.0,\n",
       " 'thickness_shallow_aquifer': 10,\n",
       " 'bottom_shallow_aquifer': -15.0,\n",
       " 'thickness_target_aquifer': 40,\n",
       " 'bottom_target_aquifer': -55.0,\n",
       " 'thickness_full_capillary_fringe': 0.0,\n",
       " 'porosity_vadose_zone': 0.35,\n",
       " 'porosity_shallow_aquifer': 0.35,\n",
       " 'porosity_target_aquifer': 0.35,\n",
       " 'porosity_gravelpack': 0.35,\n",
       " 'porosity_clayseal': 0.35,\n",
       " 'moisture_content_vadose_zone': 0.2,\n",
       " 'solid_density_vadose_zone': 2.65,\n",
       " 'solid_density_shallow_aquifer': 2.65,\n",
       " 'solid_density_target_aquifer': 2.65,\n",
       " 'fraction_organic_carbon_vadose_zone': 0.001,\n",
       " 'fraction_organic_carbon_shallow_aquifer': 0.0005,\n",
       " 'fraction_organic_carbon_target_aquifer': 0.0005,\n",
       " 'grainsize_vadose_zone': 0.00025,\n",
       " 'grainsize_shallow_aquifer': 0.00025,\n",
       " 'grainsize_target_aquifer': 0.00025,\n",
       " 'redox_vadose_zone': 'anoxic',\n",
       " 'redox_shallow_aquifer': 'anoxic',\n",
       " 'redox_target_aquifer': 'deeply_anoxic',\n",
       " 'dissolved_organic_carbon_vadose_zone': 0.0,\n",
       " 'dissolved_organic_carbon_shallow_aquifer': 0.0,\n",
       " 'dissolved_organic_carbon_target_aquifer': 0.0,\n",
       " 'dissolved_organic_carbon_infiltration_water': 0.0,\n",
       " 'total_organic_carbon_infiltration_water': 0.0,\n",
       " 'pH_vadose_zone': 7.0,\n",
       " 'pH_shallow_aquifer': 7.0,\n",
       " 'pH_target_aquifer': 7.0,\n",
       " 'temp_water': 11.0,\n",
       " 'temperature_vadose_zone': 11.0,\n",
       " 'temperature_shallow_aquifer': 11.0,\n",
       " 'temperature_target_aquifer': 11.0,\n",
       " 'recharge_rate': 0.0008,\n",
       " 'well_discharge': -7500,\n",
       " 'basin_length': None,\n",
       " 'basin_width': None,\n",
       " 'basin_xmin': None,\n",
       " 'basin_xmax': None,\n",
       " 'bottom_basin': None,\n",
       " 'bottom_sludge': None,\n",
       " 'hor_permeability_sludge': None,\n",
       " 'vertical_anisotropy_sludge': None,\n",
       " 'head_basin': None,\n",
       " 'basin_infiltration_rate': None,\n",
       " 'travel_time_h20_shallow_aquifer': None,\n",
       " 'minimum_travel_time_h20_shallow_aquifer': None,\n",
       " 'travel_time_h20_deeper_aquifer': None,\n",
       " 'minimum_travel_time_h20_target_aquifer': None,\n",
       " 'diameter_borehole': 0.75,\n",
       " 'top_filterscreen': -15.0,\n",
       " 'bottom_filterscreen': -55.0,\n",
       " 'diameter_filterscreen': 0.2,\n",
       " 'inner_diameter_filterscreen': 0.2,\n",
       " 'top_gravelpack': -15.0,\n",
       " 'bottom_gravelpack': -55.0,\n",
       " 'diameter_gravelpack': 0.75,\n",
       " 'inner_diameter_gravelpack': 0.2,\n",
       " 'grainsize_gravelpack': 0.001,\n",
       " 'top_clayseal': 0.0,\n",
       " 'bottom_clayseal': -15.0,\n",
       " 'diameter_clayseal': 0.75,\n",
       " 'inner_diameter_clayseal': 0.2,\n",
       " 'grainsize_clayseal': 1e-06,\n",
       " 'hor_permeability_shallow_aquifer': 1.0,\n",
       " 'hor_permeability_target_aquifer': 35,\n",
       " 'hor_permeability_gravelpack': 1000,\n",
       " 'hor_permeability_clayseal': 0.001,\n",
       " 'vertical_anisotropy_shallow_aquifer': 1.0,\n",
       " 'vertical_anisotropy_target_aquifer': 1.0,\n",
       " 'vertical_anisotropy_gravelpack': 1.0,\n",
       " 'vertical_anisotropy_clayseal': 1.0,\n",
       " 'vertical_permeability_target_aquifer': 35.0,\n",
       " 'vertical_permeability_shallow_aquifer': 1.0,\n",
       " 'vertical_resistance_shallow_aquifer': 10.0,\n",
       " 'KD': 1400,\n",
       " 'groundwater_level': -5.0,\n",
       " 'organism': None,\n",
       " 'substance': None,\n",
       " 'diffuse_input_concentration': 100,\n",
       " 'point_input_concentration': None,\n",
       " 'start_date_well': datetime.datetime(1950, 1, 1, 0, 0),\n",
       " 'start_date_contamination': datetime.datetime(1950, 1, 1, 0, 0),\n",
       " 'compute_contamination_for_date': datetime.datetime(2000, 1, 1, 0, 0),\n",
       " 'end_date_contamination': None,\n",
       " 'depth_point_contamination': 0.0,\n",
       " 'distance_point_contamination_from_well': array([[1]]),\n",
       " 'discharge_point_contamination': None,\n",
       " 'source_area_radius': None,\n",
       " 'number_of_spreading_distance': None,\n",
       " 'model_radius': 1727.4707473566773,\n",
       " 'model_width': 1,\n",
       " 'model_radius_computed': None,\n",
       " 'relative_position_starting_points_radial': None,\n",
       " 'relative_position_starting_points_in_basin': None,\n",
       " 'relative_position_starting_points_outside_basin': None,\n",
       " 'particle_release_day': None,\n",
       " 'ncols_near_well': 20,\n",
       " 'ncols_far_well': 30,\n",
       " 'nlayers_shallow_aquifer': 10,\n",
       " 'nlayers_target_aquifer': 40}"
      ]
     },
     "execution_count": 259,
     "metadata": {},
     "output_type": "execute_result"
    }
   ],
   "source": [
    "phreatic_schematisation.__dict__"
   ]
  },
  {
   "cell_type": "markdown",
   "metadata": {},
   "source": [
    "____________________________________\n",
    "\n",
    "\n",
    "Step 2: Run the AnalyticalWell class\n",
    "-------------------------------------\n",
    "Next we create an AnalyticalWell object for the HydroChemicalSchematisation object we just made."
   ]
  },
  {
   "cell_type": "code",
   "execution_count": 260,
   "metadata": {},
   "outputs": [],
   "source": [
    "phreatic_well = AW.AnalyticalWell(phreatic_schematisation)"
   ]
  },
  {
   "cell_type": "markdown",
   "metadata": {},
   "source": [
    "Then we calculate the travel time for each of the zones unsaturated, shallow aquifer and target aquifer zones\n",
    "by running the .phreatic() function for the well object. "
   ]
  },
  {
   "cell_type": "code",
   "execution_count": 261,
   "metadata": {},
   "outputs": [],
   "source": [
    "phreatic_well.phreatic()"
   ]
  },
  {
   "cell_type": "markdown",
   "metadata": {},
   "source": [
    "From the AnalyticalWell class two other important outputs are:\n",
    "\n",
    "* df_particle - Pandas dataframe with data about the different flowlines per zone (unsaturated/shallow/target)\n",
    "* df_flowline - Pandas dataframe with data about the flowlines per flowline (eg. total travel time per flowline)\n",
    "\n",
    "____________________________________\n",
    "\n",
    "\n",
    "Step 3: Collect removal parameters for the mbo (MicrobialOrganism)\n",
    "-------------------------------------------------------------------\n",
    "\n",
    "You can retrieve the default removal parameters used to calculate the removal of microbial organisms [mbo] \n",
    "in the Transport class. The data are stored in a dictionary. In the example plant pathogen 'solani' is used."
   ]
  },
  {
   "cell_type": "code",
   "execution_count": 262,
   "metadata": {},
   "outputs": [
    {
     "data": {
      "text/plain": [
       "{'organism_name': 'solani',\n",
       " 'alpha0': {'suboxic': 0.037, 'anoxic': 0.00037, 'deeply_anoxic': 0.00037},\n",
       " 'pH0': {'suboxic': 7.5, 'anoxic': 7.5, 'deeply_anoxic': 7.5},\n",
       " 'organism_diam': 2.731e-06,\n",
       " 'mu1': {'suboxic': 1.2472, 'anoxic': 0.1151, 'deeply_anoxic': 0.1151}}"
      ]
     },
     "execution_count": 262,
     "metadata": {},
     "output_type": "execute_result"
    }
   ],
   "source": [
    "test_organism = TR.MicrobialOrganism(organism_name='solani')\n",
    "test_organism.organism_dict"
   ]
  },
  {
   "cell_type": "markdown",
   "metadata": {},
   "source": [
    "To obtain a list of Organisms included in the MicrobialOrganism class, see organism_database."
   ]
  },
  {
   "cell_type": "code",
   "execution_count": 263,
   "metadata": {},
   "outputs": [
    {
     "name": "stdout",
     "output_type": "stream",
     "text": [
      "solani \n",
      " {'organism_name': 'solani', 'alpha0': {'suboxic': 0.037, 'anoxic': 0.00037, 'deeply_anoxic': 0.00037}, 'pH0': {'suboxic': 7.5, 'anoxic': 7.5, 'deeply_anoxic': 7.5}, 'organism_diam': 2.731e-06, 'mu1': {'suboxic': 1.2472, 'anoxic': 0.1151, 'deeply_anoxic': 0.1151}} \n",
      "\n",
      "carotovorum \n",
      " {'organism_name': 'carotovorum', 'alpha0': {'suboxic': 0.3, 'anoxic': 0.577, 'deeply_anoxic': 0.577}, 'pH0': {'suboxic': 7.5, 'anoxic': 7.5, 'deeply_anoxic': 7.5}, 'organism_diam': 1.803e-06, 'mu1': {'suboxic': 1.2664, 'anoxic': 0.1279, 'deeply_anoxic': 0.1279}} \n",
      "\n",
      "solanacearum \n",
      " {'organism_name': 'solanacearum', 'alpha0': {'suboxic': 0.011, 'anoxic': 0.456, 'deeply_anoxic': 0.456}, 'pH0': {'suboxic': 7.5, 'anoxic': 7.5, 'deeply_anoxic': 7.5}, 'organism_diam': 1.945e-06, 'mu1': {'suboxic': 0.3519, 'anoxic': 0.1637, 'deeply_anoxic': 0.1637}} \n",
      "\n"
     ]
    }
   ],
   "source": [
    "for key, val in test_organism.micro_organism_database.items():\n",
    "    print(key,\"\\n\",val,\"\\n\")"
   ]
  },
  {
   "cell_type": "markdown",
   "metadata": {},
   "source": [
    "Optional: You may specify a different value for the organism removal parameters, for example\n",
    "a different half-life for the anoxic redox zone. This can be input in the Transport class\n",
    "and this will be used in the calculation for the removal of the mircoial organism. "
   ]
  },
  {
   "cell_type": "code",
   "execution_count": 264,
   "metadata": {},
   "outputs": [],
   "source": [
    "# Define removal parameters of pollutant\n",
    "organism_solani_anox = TR.MicrobialOrganism(organism_name = 'solani',\n",
    "                                    alpha0_suboxic=None,\n",
    "                                    alpha0_anoxic=1.e-4,\n",
    "                                    alpha0_deeply_anoxic=None,\n",
    "                                    pH0_suboxic=None,\n",
    "                                    pH0_anoxic=7.5,\n",
    "                                    pH0_deeply_anoxic=None,\n",
    "                                    mu1_suboxic=None,\n",
    "                                    mu1_anoxic=0.01,\n",
    "                                    mu1_deeply_anoxic=None,)"
   ]
  },
  {
   "cell_type": "markdown",
   "metadata": {},
   "source": [
    "If you have specified values for the mbo (e.g. alpha0, pH0, mu1),\n",
    "the default value is overwritten and used in the calculation of the removal. You can\n",
    "view the updated organism removal parameters from the concentration object"
   ]
  },
  {
   "cell_type": "code",
   "execution_count": 265,
   "metadata": {},
   "outputs": [
    {
     "data": {
      "text/plain": [
       "{'organism_name': 'solani',\n",
       " 'alpha0': {'suboxic': 0.037, 'anoxic': 0.0001, 'deeply_anoxic': 0.00037},\n",
       " 'pH0': {'suboxic': 7.5, 'anoxic': 7.5, 'deeply_anoxic': 7.5},\n",
       " 'organism_diam': 2.731e-06,\n",
       " 'mu1': {'suboxic': 1.2472, 'anoxic': 0.01, 'deeply_anoxic': 0.1151}}"
      ]
     },
     "execution_count": 265,
     "metadata": {},
     "output_type": "execute_result"
    }
   ],
   "source": [
    "organism_solani_anox.organism_dict"
   ]
  },
  {
   "cell_type": "markdown",
   "metadata": {},
   "source": [
    "> Note: for organic micropollutants call the Substance class.\n",
    "> See example for AnalyticalWell plus omp removal. e.g.:\n",
    "> \n",
    "> test_substance = TR.Substance(substance_name='benzene')\n",
    "> test_substance.substance_dict\n",
    "\n",
    "____________________________________\n",
    "\n",
    "\n",
    "Step 4: Run the Transport class\n",
    "--------------------------------\n",
    "To calculate the removal and the steady-state concentration in each zone, create a concentration\n",
    "object by running the Transport class with the phreatic_well object and specifying\n",
    "the microbial organism of interest.\n",
    "\n",
    "In this example we use solani. First we create the object and view the substance properties:"
   ]
  },
  {
   "cell_type": "code",
   "execution_count": 266,
   "metadata": {},
   "outputs": [],
   "source": [
    "# Call transport class\n",
    "phreatic_transport = TR.Transport(well = phreatic_well, pollutant = test_organism)\n",
    "# check removal parameters\n",
    "# phreatic_transport.removal_parameters\n"
   ]
  },
  {
   "cell_type": "code",
   "execution_count": 267,
   "metadata": {},
   "outputs": [
    {
     "name": "stdout",
     "output_type": "stream",
     "text": [
      "   flowline_id             zone  travel_time total_travel_time     xcoord  \\\n",
      "1            1          surface            0                 0   5.462742   \n",
      "1            1      vadose_zone  2477.012721       2477.012721   5.462742   \n",
      "1            1  shallow_aquifer  2227.727738       4704.740459   5.462742   \n",
      "1            1   target_aquifer     0.175001        4704.91546   0.375000   \n",
      "2            2          surface            0                 0  17.274707   \n",
      "\n",
      "  ycoord  zcoord          redox  temp_water  travel_distance  porosity  \\\n",
      "1      1     0.0         anoxic        11.0              NaN       NaN   \n",
      "1      1    -5.0         anoxic        11.0        -9.908051      0.35   \n",
      "1      1   -15.0         anoxic        11.0        24.908051      0.35   \n",
      "1      1   -55.0  deeply_anoxic        11.0         5.462742      0.35   \n",
      "2      1     0.0         anoxic        11.0              NaN       NaN   \n",
      "\n",
      "   dissolved_organic_carbon   pH  fraction_organic_carbon  solid_density  \n",
      "1                       NaN  NaN                      NaN            NaN  \n",
      "1                       0.0  7.0                   0.0010           2.65  \n",
      "1                       0.0  7.0                   0.0005           2.65  \n",
      "1                       0.0  7.0                   0.0005           2.65  \n",
      "2                       NaN  NaN                      NaN            NaN  \n"
     ]
    }
   ],
   "source": [
    "print(phreatic_transport.df_particle.head())"
   ]
  },
  {
   "cell_type": "code",
   "execution_count": 268,
   "metadata": {},
   "outputs": [
    {
     "name": "stdout",
     "output_type": "stream",
     "text": [
      "   flowline_id   flowline_type flowline_discharge particle_release_day  \\\n",
      "1            1  diffuse_source              0.075                 None   \n",
      "2            2  diffuse_source              0.675                 None   \n",
      "3            3  diffuse_source               6.75                 None   \n",
      "4            4  diffuse_source               30.0                 None   \n",
      "5            5  diffuse_source               37.5                 None   \n",
      "\n",
      "  endpoint_id  well_discharge removal_function  \n",
      "1       well1            7500              omp  \n",
      "2       well1            7500              omp  \n",
      "3       well1            7500              omp  \n",
      "4       well1            7500              omp  \n",
      "5       well1            7500              omp  \n"
     ]
    }
   ],
   "source": [
    "print(phreatic_transport.df_flowline.head())"
   ]
  },
  {
   "cell_type": "markdown",
   "metadata": {},
   "source": [
    "Then we can compute the removal by running the 'calc_advective_microbial_removal' function"
   ]
  },
  {
   "cell_type": "code",
   "execution_count": 269,
   "metadata": {},
   "outputs": [
    {
     "name": "stdout",
     "output_type": "stream",
     "text": [
      "endpoint_id list: ['well1']\n",
      "Final concentration well1: 0.0\n"
     ]
    }
   ],
   "source": [
    "# list endpoint ids\n",
    "endpoint_ids = phreatic_transport.well.df_flowline.loc[:,\"endpoint_id\"].unique()\n",
    "print(f\"endpoint_id list: {endpoint_ids}\")\n",
    "\n",
    "# keep track of final cocnentration per endpoint_id\n",
    "C_final = {}\n",
    "# Update df_flowline and df_particle. Calculate final concentration at endpoint_id(s)\n",
    "for endpoint_id in endpoint_ids:\n",
    "    df_particle, df_flowline, C_final[endpoint_id] = phreatic_transport.calc_advective_microbial_removal(\n",
    "                                                phreatic_transport.df_particle, phreatic_transport.df_flowline, \n",
    "                                                endpoint_id = endpoint_id,\n",
    "                                                conc_start = 1., conc_gw = 0.)\n",
    "    print(f\"Final concentration {endpoint_id}: {C_final[endpoint_id]}\")"
   ]
  },
  {
   "cell_type": "code",
   "execution_count": 270,
   "metadata": {},
   "outputs": [
    {
     "data": {
      "text/html": [
       "<div>\n",
       "<style scoped>\n",
       "    .dataframe tbody tr th:only-of-type {\n",
       "        vertical-align: middle;\n",
       "    }\n",
       "\n",
       "    .dataframe tbody tr th {\n",
       "        vertical-align: top;\n",
       "    }\n",
       "\n",
       "    .dataframe thead th {\n",
       "        text-align: right;\n",
       "    }\n",
       "</style>\n",
       "<table border=\"1\" class=\"dataframe\">\n",
       "  <thead>\n",
       "    <tr style=\"text-align: right;\">\n",
       "      <th></th>\n",
       "      <th>flowline_id</th>\n",
       "      <th>zone</th>\n",
       "      <th>travel_time</th>\n",
       "      <th>total_travel_time</th>\n",
       "      <th>xcoord</th>\n",
       "      <th>ycoord</th>\n",
       "      <th>zcoord</th>\n",
       "      <th>redox</th>\n",
       "      <th>temp_water</th>\n",
       "      <th>travel_distance</th>\n",
       "      <th>...</th>\n",
       "      <th>dissolved_organic_carbon</th>\n",
       "      <th>pH</th>\n",
       "      <th>fraction_organic_carbon</th>\n",
       "      <th>solid_density</th>\n",
       "      <th>mu1</th>\n",
       "      <th>alpha0</th>\n",
       "      <th>pH0</th>\n",
       "      <th>organism_diam</th>\n",
       "      <th>relative_distance</th>\n",
       "      <th>porewater_velocity</th>\n",
       "    </tr>\n",
       "  </thead>\n",
       "  <tbody>\n",
       "    <tr>\n",
       "      <th>1</th>\n",
       "      <td>1</td>\n",
       "      <td>surface</td>\n",
       "      <td>0</td>\n",
       "      <td>0</td>\n",
       "      <td>5.462742</td>\n",
       "      <td>1</td>\n",
       "      <td>0.0</td>\n",
       "      <td>anoxic</td>\n",
       "      <td>11.0</td>\n",
       "      <td>NaN</td>\n",
       "      <td>...</td>\n",
       "      <td>NaN</td>\n",
       "      <td>NaN</td>\n",
       "      <td>NaN</td>\n",
       "      <td>NaN</td>\n",
       "      <td>0.1151</td>\n",
       "      <td>0.00037</td>\n",
       "      <td>7.5</td>\n",
       "      <td>0.000003</td>\n",
       "      <td>None</td>\n",
       "      <td>None</td>\n",
       "    </tr>\n",
       "    <tr>\n",
       "      <th>1</th>\n",
       "      <td>1</td>\n",
       "      <td>vadose_zone</td>\n",
       "      <td>2477.012721</td>\n",
       "      <td>2477.012721</td>\n",
       "      <td>5.462742</td>\n",
       "      <td>1</td>\n",
       "      <td>-5.0</td>\n",
       "      <td>anoxic</td>\n",
       "      <td>11.0</td>\n",
       "      <td>-9.908051</td>\n",
       "      <td>...</td>\n",
       "      <td>0.0</td>\n",
       "      <td>7.0</td>\n",
       "      <td>0.0010</td>\n",
       "      <td>2.65</td>\n",
       "      <td>0.1151</td>\n",
       "      <td>0.00037</td>\n",
       "      <td>7.5</td>\n",
       "      <td>0.000003</td>\n",
       "      <td>None</td>\n",
       "      <td>None</td>\n",
       "    </tr>\n",
       "    <tr>\n",
       "      <th>1</th>\n",
       "      <td>1</td>\n",
       "      <td>shallow_aquifer</td>\n",
       "      <td>2227.727738</td>\n",
       "      <td>4704.740459</td>\n",
       "      <td>5.462742</td>\n",
       "      <td>1</td>\n",
       "      <td>-15.0</td>\n",
       "      <td>anoxic</td>\n",
       "      <td>11.0</td>\n",
       "      <td>24.908051</td>\n",
       "      <td>...</td>\n",
       "      <td>0.0</td>\n",
       "      <td>7.0</td>\n",
       "      <td>0.0005</td>\n",
       "      <td>2.65</td>\n",
       "      <td>0.1151</td>\n",
       "      <td>0.00037</td>\n",
       "      <td>7.5</td>\n",
       "      <td>0.000003</td>\n",
       "      <td>None</td>\n",
       "      <td>None</td>\n",
       "    </tr>\n",
       "    <tr>\n",
       "      <th>1</th>\n",
       "      <td>1</td>\n",
       "      <td>target_aquifer</td>\n",
       "      <td>0.175001</td>\n",
       "      <td>4704.91546</td>\n",
       "      <td>0.375000</td>\n",
       "      <td>1</td>\n",
       "      <td>-55.0</td>\n",
       "      <td>deeply_anoxic</td>\n",
       "      <td>11.0</td>\n",
       "      <td>5.462742</td>\n",
       "      <td>...</td>\n",
       "      <td>0.0</td>\n",
       "      <td>7.0</td>\n",
       "      <td>0.0005</td>\n",
       "      <td>2.65</td>\n",
       "      <td>0.1151</td>\n",
       "      <td>0.00037</td>\n",
       "      <td>7.5</td>\n",
       "      <td>0.000003</td>\n",
       "      <td>None</td>\n",
       "      <td>None</td>\n",
       "    </tr>\n",
       "    <tr>\n",
       "      <th>2</th>\n",
       "      <td>2</td>\n",
       "      <td>surface</td>\n",
       "      <td>0</td>\n",
       "      <td>0</td>\n",
       "      <td>17.274707</td>\n",
       "      <td>1</td>\n",
       "      <td>0.0</td>\n",
       "      <td>anoxic</td>\n",
       "      <td>11.0</td>\n",
       "      <td>NaN</td>\n",
       "      <td>...</td>\n",
       "      <td>NaN</td>\n",
       "      <td>NaN</td>\n",
       "      <td>NaN</td>\n",
       "      <td>NaN</td>\n",
       "      <td>0.1151</td>\n",
       "      <td>0.00037</td>\n",
       "      <td>7.5</td>\n",
       "      <td>0.000003</td>\n",
       "      <td>None</td>\n",
       "      <td>None</td>\n",
       "    </tr>\n",
       "    <tr>\n",
       "      <th>2</th>\n",
       "      <td>2</td>\n",
       "      <td>vadose_zone</td>\n",
       "      <td>2231.610177</td>\n",
       "      <td>2231.610177</td>\n",
       "      <td>17.274707</td>\n",
       "      <td>1</td>\n",
       "      <td>-5.0</td>\n",
       "      <td>anoxic</td>\n",
       "      <td>11.0</td>\n",
       "      <td>-8.926441</td>\n",
       "      <td>...</td>\n",
       "      <td>0.0</td>\n",
       "      <td>7.0</td>\n",
       "      <td>0.0010</td>\n",
       "      <td>2.65</td>\n",
       "      <td>0.1151</td>\n",
       "      <td>0.00037</td>\n",
       "      <td>7.5</td>\n",
       "      <td>0.000003</td>\n",
       "      <td>None</td>\n",
       "      <td>None</td>\n",
       "    </tr>\n",
       "    <tr>\n",
       "      <th>2</th>\n",
       "      <td>2</td>\n",
       "      <td>shallow_aquifer</td>\n",
       "      <td>2657.18219</td>\n",
       "      <td>4888.792367</td>\n",
       "      <td>17.274707</td>\n",
       "      <td>1</td>\n",
       "      <td>-15.0</td>\n",
       "      <td>anoxic</td>\n",
       "      <td>11.0</td>\n",
       "      <td>23.926441</td>\n",
       "      <td>...</td>\n",
       "      <td>0.0</td>\n",
       "      <td>7.0</td>\n",
       "      <td>0.0005</td>\n",
       "      <td>2.65</td>\n",
       "      <td>0.1151</td>\n",
       "      <td>0.00037</td>\n",
       "      <td>7.5</td>\n",
       "      <td>0.000003</td>\n",
       "      <td>None</td>\n",
       "      <td>None</td>\n",
       "    </tr>\n",
       "    <tr>\n",
       "      <th>2</th>\n",
       "      <td>2</td>\n",
       "      <td>target_aquifer</td>\n",
       "      <td>1.750088</td>\n",
       "      <td>4890.542455</td>\n",
       "      <td>0.375000</td>\n",
       "      <td>1</td>\n",
       "      <td>-55.0</td>\n",
       "      <td>deeply_anoxic</td>\n",
       "      <td>11.0</td>\n",
       "      <td>17.274707</td>\n",
       "      <td>...</td>\n",
       "      <td>0.0</td>\n",
       "      <td>7.0</td>\n",
       "      <td>0.0005</td>\n",
       "      <td>2.65</td>\n",
       "      <td>0.1151</td>\n",
       "      <td>0.00037</td>\n",
       "      <td>7.5</td>\n",
       "      <td>0.000003</td>\n",
       "      <td>None</td>\n",
       "      <td>None</td>\n",
       "    </tr>\n",
       "    <tr>\n",
       "      <th>3</th>\n",
       "      <td>3</td>\n",
       "      <td>surface</td>\n",
       "      <td>0</td>\n",
       "      <td>0</td>\n",
       "      <td>54.627422</td>\n",
       "      <td>1</td>\n",
       "      <td>0.0</td>\n",
       "      <td>anoxic</td>\n",
       "      <td>11.0</td>\n",
       "      <td>NaN</td>\n",
       "      <td>...</td>\n",
       "      <td>NaN</td>\n",
       "      <td>NaN</td>\n",
       "      <td>NaN</td>\n",
       "      <td>NaN</td>\n",
       "      <td>0.1151</td>\n",
       "      <td>0.00037</td>\n",
       "      <td>7.5</td>\n",
       "      <td>0.000003</td>\n",
       "      <td>None</td>\n",
       "      <td>None</td>\n",
       "    </tr>\n",
       "    <tr>\n",
       "      <th>3</th>\n",
       "      <td>3</td>\n",
       "      <td>vadose_zone</td>\n",
       "      <td>1986.207633</td>\n",
       "      <td>1986.207633</td>\n",
       "      <td>54.627422</td>\n",
       "      <td>1</td>\n",
       "      <td>-5.0</td>\n",
       "      <td>anoxic</td>\n",
       "      <td>11.0</td>\n",
       "      <td>-7.944831</td>\n",
       "      <td>...</td>\n",
       "      <td>0.0</td>\n",
       "      <td>7.0</td>\n",
       "      <td>0.0010</td>\n",
       "      <td>2.65</td>\n",
       "      <td>0.1151</td>\n",
       "      <td>0.00037</td>\n",
       "      <td>7.5</td>\n",
       "      <td>0.000003</td>\n",
       "      <td>None</td>\n",
       "      <td>None</td>\n",
       "    </tr>\n",
       "  </tbody>\n",
       "</table>\n",
       "<p>10 rows × 21 columns</p>\n",
       "</div>"
      ],
      "text/plain": [
       "   flowline_id             zone  travel_time total_travel_time     xcoord  \\\n",
       "1            1          surface            0                 0   5.462742   \n",
       "1            1      vadose_zone  2477.012721       2477.012721   5.462742   \n",
       "1            1  shallow_aquifer  2227.727738       4704.740459   5.462742   \n",
       "1            1   target_aquifer     0.175001        4704.91546   0.375000   \n",
       "2            2          surface            0                 0  17.274707   \n",
       "2            2      vadose_zone  2231.610177       2231.610177  17.274707   \n",
       "2            2  shallow_aquifer   2657.18219       4888.792367  17.274707   \n",
       "2            2   target_aquifer     1.750088       4890.542455   0.375000   \n",
       "3            3          surface            0                 0  54.627422   \n",
       "3            3      vadose_zone  1986.207633       1986.207633  54.627422   \n",
       "\n",
       "  ycoord  zcoord          redox  temp_water  travel_distance  ...  \\\n",
       "1      1     0.0         anoxic        11.0              NaN  ...   \n",
       "1      1    -5.0         anoxic        11.0        -9.908051  ...   \n",
       "1      1   -15.0         anoxic        11.0        24.908051  ...   \n",
       "1      1   -55.0  deeply_anoxic        11.0         5.462742  ...   \n",
       "2      1     0.0         anoxic        11.0              NaN  ...   \n",
       "2      1    -5.0         anoxic        11.0        -8.926441  ...   \n",
       "2      1   -15.0         anoxic        11.0        23.926441  ...   \n",
       "2      1   -55.0  deeply_anoxic        11.0        17.274707  ...   \n",
       "3      1     0.0         anoxic        11.0              NaN  ...   \n",
       "3      1    -5.0         anoxic        11.0        -7.944831  ...   \n",
       "\n",
       "   dissolved_organic_carbon   pH  fraction_organic_carbon  solid_density  \\\n",
       "1                       NaN  NaN                      NaN            NaN   \n",
       "1                       0.0  7.0                   0.0010           2.65   \n",
       "1                       0.0  7.0                   0.0005           2.65   \n",
       "1                       0.0  7.0                   0.0005           2.65   \n",
       "2                       NaN  NaN                      NaN            NaN   \n",
       "2                       0.0  7.0                   0.0010           2.65   \n",
       "2                       0.0  7.0                   0.0005           2.65   \n",
       "2                       0.0  7.0                   0.0005           2.65   \n",
       "3                       NaN  NaN                      NaN            NaN   \n",
       "3                       0.0  7.0                   0.0010           2.65   \n",
       "\n",
       "      mu1   alpha0  pH0  organism_diam  relative_distance porewater_velocity  \n",
       "1  0.1151  0.00037  7.5       0.000003               None               None  \n",
       "1  0.1151  0.00037  7.5       0.000003               None               None  \n",
       "1  0.1151  0.00037  7.5       0.000003               None               None  \n",
       "1  0.1151  0.00037  7.5       0.000003               None               None  \n",
       "2  0.1151  0.00037  7.5       0.000003               None               None  \n",
       "2  0.1151  0.00037  7.5       0.000003               None               None  \n",
       "2  0.1151  0.00037  7.5       0.000003               None               None  \n",
       "2  0.1151  0.00037  7.5       0.000003               None               None  \n",
       "3  0.1151  0.00037  7.5       0.000003               None               None  \n",
       "3  0.1151  0.00037  7.5       0.000003               None               None  \n",
       "\n",
       "[10 rows x 21 columns]"
      ]
     },
     "execution_count": 270,
     "metadata": {},
     "output_type": "execute_result"
    }
   ],
   "source": [
    "phreatic_transport.df_particle.head(10)"
   ]
  },
  {
   "cell_type": "markdown",
   "metadata": {},
   "source": [
    "Once the removal has been calculated, you can view the steady-state concentration\n",
    "and breakthrough time per zone for the mbo in the df_particle:"
   ]
  },
  {
   "cell_type": "code",
   "execution_count": 271,
   "metadata": {},
   "outputs": [
    {
     "ename": "KeyError",
     "evalue": "\"['steady_state_concentration'] not in index\"",
     "output_type": "error",
     "traceback": [
      "\u001b[1;31m---------------------------------------------------------------------------\u001b[0m",
      "\u001b[1;31mKeyError\u001b[0m                                  Traceback (most recent call last)",
      "\u001b[1;32m~\\AppData\\Local\\Temp/ipykernel_10328/1303399527.py\u001b[0m in \u001b[0;36m<module>\u001b[1;34m\u001b[0m\n\u001b[1;32m----> 1\u001b[1;33m \u001b[0mphreatic_transport\u001b[0m\u001b[1;33m.\u001b[0m\u001b[0mdf_particle\u001b[0m\u001b[1;33m.\u001b[0m\u001b[0mloc\u001b[0m\u001b[1;33m[\u001b[0m\u001b[1;33m:\u001b[0m\u001b[1;33m,\u001b[0m\u001b[1;33m[\u001b[0m\u001b[1;34m'zone'\u001b[0m\u001b[1;33m,\u001b[0m \u001b[1;34m'steady_state_concentration'\u001b[0m\u001b[1;33m,\u001b[0m \u001b[1;34m'travel_time'\u001b[0m\u001b[1;33m]\u001b[0m\u001b[1;33m]\u001b[0m\u001b[1;33m\u001b[0m\u001b[1;33m\u001b[0m\u001b[0m\n\u001b[0m",
      "\u001b[1;32mc:\\Users\\rosst\\Miniconda3\\lib\\site-packages\\pandas\\core\\indexing.py\u001b[0m in \u001b[0;36m__getitem__\u001b[1;34m(self, key)\u001b[0m\n\u001b[0;32m    923\u001b[0m                 \u001b[1;32mwith\u001b[0m \u001b[0msuppress\u001b[0m\u001b[1;33m(\u001b[0m\u001b[0mKeyError\u001b[0m\u001b[1;33m,\u001b[0m \u001b[0mIndexError\u001b[0m\u001b[1;33m)\u001b[0m\u001b[1;33m:\u001b[0m\u001b[1;33m\u001b[0m\u001b[1;33m\u001b[0m\u001b[0m\n\u001b[0;32m    924\u001b[0m                     \u001b[1;32mreturn\u001b[0m \u001b[0mself\u001b[0m\u001b[1;33m.\u001b[0m\u001b[0mobj\u001b[0m\u001b[1;33m.\u001b[0m\u001b[0m_get_value\u001b[0m\u001b[1;33m(\u001b[0m\u001b[1;33m*\u001b[0m\u001b[0mkey\u001b[0m\u001b[1;33m,\u001b[0m \u001b[0mtakeable\u001b[0m\u001b[1;33m=\u001b[0m\u001b[0mself\u001b[0m\u001b[1;33m.\u001b[0m\u001b[0m_takeable\u001b[0m\u001b[1;33m)\u001b[0m\u001b[1;33m\u001b[0m\u001b[1;33m\u001b[0m\u001b[0m\n\u001b[1;32m--> 925\u001b[1;33m             \u001b[1;32mreturn\u001b[0m \u001b[0mself\u001b[0m\u001b[1;33m.\u001b[0m\u001b[0m_getitem_tuple\u001b[0m\u001b[1;33m(\u001b[0m\u001b[0mkey\u001b[0m\u001b[1;33m)\u001b[0m\u001b[1;33m\u001b[0m\u001b[1;33m\u001b[0m\u001b[0m\n\u001b[0m\u001b[0;32m    926\u001b[0m         \u001b[1;32melse\u001b[0m\u001b[1;33m:\u001b[0m\u001b[1;33m\u001b[0m\u001b[1;33m\u001b[0m\u001b[0m\n\u001b[0;32m    927\u001b[0m             \u001b[1;31m# we by definition only have the 0th axis\u001b[0m\u001b[1;33m\u001b[0m\u001b[1;33m\u001b[0m\u001b[1;33m\u001b[0m\u001b[0m\n",
      "\u001b[1;32mc:\\Users\\rosst\\Miniconda3\\lib\\site-packages\\pandas\\core\\indexing.py\u001b[0m in \u001b[0;36m_getitem_tuple\u001b[1;34m(self, tup)\u001b[0m\n\u001b[0;32m   1107\u001b[0m             \u001b[1;32mreturn\u001b[0m \u001b[0mself\u001b[0m\u001b[1;33m.\u001b[0m\u001b[0m_multi_take\u001b[0m\u001b[1;33m(\u001b[0m\u001b[0mtup\u001b[0m\u001b[1;33m)\u001b[0m\u001b[1;33m\u001b[0m\u001b[1;33m\u001b[0m\u001b[0m\n\u001b[0;32m   1108\u001b[0m \u001b[1;33m\u001b[0m\u001b[0m\n\u001b[1;32m-> 1109\u001b[1;33m         \u001b[1;32mreturn\u001b[0m \u001b[0mself\u001b[0m\u001b[1;33m.\u001b[0m\u001b[0m_getitem_tuple_same_dim\u001b[0m\u001b[1;33m(\u001b[0m\u001b[0mtup\u001b[0m\u001b[1;33m)\u001b[0m\u001b[1;33m\u001b[0m\u001b[1;33m\u001b[0m\u001b[0m\n\u001b[0m\u001b[0;32m   1110\u001b[0m \u001b[1;33m\u001b[0m\u001b[0m\n\u001b[0;32m   1111\u001b[0m     \u001b[1;32mdef\u001b[0m \u001b[0m_get_label\u001b[0m\u001b[1;33m(\u001b[0m\u001b[0mself\u001b[0m\u001b[1;33m,\u001b[0m \u001b[0mlabel\u001b[0m\u001b[1;33m,\u001b[0m \u001b[0maxis\u001b[0m\u001b[1;33m:\u001b[0m \u001b[0mint\u001b[0m\u001b[1;33m)\u001b[0m\u001b[1;33m:\u001b[0m\u001b[1;33m\u001b[0m\u001b[1;33m\u001b[0m\u001b[0m\n",
      "\u001b[1;32mc:\\Users\\rosst\\Miniconda3\\lib\\site-packages\\pandas\\core\\indexing.py\u001b[0m in \u001b[0;36m_getitem_tuple_same_dim\u001b[1;34m(self, tup)\u001b[0m\n\u001b[0;32m    804\u001b[0m                 \u001b[1;32mcontinue\u001b[0m\u001b[1;33m\u001b[0m\u001b[1;33m\u001b[0m\u001b[0m\n\u001b[0;32m    805\u001b[0m \u001b[1;33m\u001b[0m\u001b[0m\n\u001b[1;32m--> 806\u001b[1;33m             \u001b[0mretval\u001b[0m \u001b[1;33m=\u001b[0m \u001b[0mgetattr\u001b[0m\u001b[1;33m(\u001b[0m\u001b[0mretval\u001b[0m\u001b[1;33m,\u001b[0m \u001b[0mself\u001b[0m\u001b[1;33m.\u001b[0m\u001b[0mname\u001b[0m\u001b[1;33m)\u001b[0m\u001b[1;33m.\u001b[0m\u001b[0m_getitem_axis\u001b[0m\u001b[1;33m(\u001b[0m\u001b[0mkey\u001b[0m\u001b[1;33m,\u001b[0m \u001b[0maxis\u001b[0m\u001b[1;33m=\u001b[0m\u001b[0mi\u001b[0m\u001b[1;33m)\u001b[0m\u001b[1;33m\u001b[0m\u001b[1;33m\u001b[0m\u001b[0m\n\u001b[0m\u001b[0;32m    807\u001b[0m             \u001b[1;31m# We should never have retval.ndim < self.ndim, as that should\u001b[0m\u001b[1;33m\u001b[0m\u001b[1;33m\u001b[0m\u001b[1;33m\u001b[0m\u001b[0m\n\u001b[0;32m    808\u001b[0m             \u001b[1;31m#  be handled by the _getitem_lowerdim call above.\u001b[0m\u001b[1;33m\u001b[0m\u001b[1;33m\u001b[0m\u001b[1;33m\u001b[0m\u001b[0m\n",
      "\u001b[1;32mc:\\Users\\rosst\\Miniconda3\\lib\\site-packages\\pandas\\core\\indexing.py\u001b[0m in \u001b[0;36m_getitem_axis\u001b[1;34m(self, key, axis)\u001b[0m\n\u001b[0;32m   1151\u001b[0m                     \u001b[1;32mraise\u001b[0m \u001b[0mValueError\u001b[0m\u001b[1;33m(\u001b[0m\u001b[1;34m\"Cannot index with multidimensional key\"\u001b[0m\u001b[1;33m)\u001b[0m\u001b[1;33m\u001b[0m\u001b[1;33m\u001b[0m\u001b[0m\n\u001b[0;32m   1152\u001b[0m \u001b[1;33m\u001b[0m\u001b[0m\n\u001b[1;32m-> 1153\u001b[1;33m                 \u001b[1;32mreturn\u001b[0m \u001b[0mself\u001b[0m\u001b[1;33m.\u001b[0m\u001b[0m_getitem_iterable\u001b[0m\u001b[1;33m(\u001b[0m\u001b[0mkey\u001b[0m\u001b[1;33m,\u001b[0m \u001b[0maxis\u001b[0m\u001b[1;33m=\u001b[0m\u001b[0maxis\u001b[0m\u001b[1;33m)\u001b[0m\u001b[1;33m\u001b[0m\u001b[1;33m\u001b[0m\u001b[0m\n\u001b[0m\u001b[0;32m   1154\u001b[0m \u001b[1;33m\u001b[0m\u001b[0m\n\u001b[0;32m   1155\u001b[0m             \u001b[1;31m# nested tuple slicing\u001b[0m\u001b[1;33m\u001b[0m\u001b[1;33m\u001b[0m\u001b[1;33m\u001b[0m\u001b[0m\n",
      "\u001b[1;32mc:\\Users\\rosst\\Miniconda3\\lib\\site-packages\\pandas\\core\\indexing.py\u001b[0m in \u001b[0;36m_getitem_iterable\u001b[1;34m(self, key, axis)\u001b[0m\n\u001b[0;32m   1091\u001b[0m \u001b[1;33m\u001b[0m\u001b[0m\n\u001b[0;32m   1092\u001b[0m         \u001b[1;31m# A collection of keys\u001b[0m\u001b[1;33m\u001b[0m\u001b[1;33m\u001b[0m\u001b[1;33m\u001b[0m\u001b[0m\n\u001b[1;32m-> 1093\u001b[1;33m         \u001b[0mkeyarr\u001b[0m\u001b[1;33m,\u001b[0m \u001b[0mindexer\u001b[0m \u001b[1;33m=\u001b[0m \u001b[0mself\u001b[0m\u001b[1;33m.\u001b[0m\u001b[0m_get_listlike_indexer\u001b[0m\u001b[1;33m(\u001b[0m\u001b[0mkey\u001b[0m\u001b[1;33m,\u001b[0m \u001b[0maxis\u001b[0m\u001b[1;33m)\u001b[0m\u001b[1;33m\u001b[0m\u001b[1;33m\u001b[0m\u001b[0m\n\u001b[0m\u001b[0;32m   1094\u001b[0m         return self.obj._reindex_with_indexers(\n\u001b[0;32m   1095\u001b[0m             \u001b[1;33m{\u001b[0m\u001b[0maxis\u001b[0m\u001b[1;33m:\u001b[0m \u001b[1;33m[\u001b[0m\u001b[0mkeyarr\u001b[0m\u001b[1;33m,\u001b[0m \u001b[0mindexer\u001b[0m\u001b[1;33m]\u001b[0m\u001b[1;33m}\u001b[0m\u001b[1;33m,\u001b[0m \u001b[0mcopy\u001b[0m\u001b[1;33m=\u001b[0m\u001b[1;32mTrue\u001b[0m\u001b[1;33m,\u001b[0m \u001b[0mallow_dups\u001b[0m\u001b[1;33m=\u001b[0m\u001b[1;32mTrue\u001b[0m\u001b[1;33m\u001b[0m\u001b[1;33m\u001b[0m\u001b[0m\n",
      "\u001b[1;32mc:\\Users\\rosst\\Miniconda3\\lib\\site-packages\\pandas\\core\\indexing.py\u001b[0m in \u001b[0;36m_get_listlike_indexer\u001b[1;34m(self, key, axis)\u001b[0m\n\u001b[0;32m   1312\u001b[0m             \u001b[0mkeyarr\u001b[0m\u001b[1;33m,\u001b[0m \u001b[0mindexer\u001b[0m\u001b[1;33m,\u001b[0m \u001b[0mnew_indexer\u001b[0m \u001b[1;33m=\u001b[0m \u001b[0max\u001b[0m\u001b[1;33m.\u001b[0m\u001b[0m_reindex_non_unique\u001b[0m\u001b[1;33m(\u001b[0m\u001b[0mkeyarr\u001b[0m\u001b[1;33m)\u001b[0m\u001b[1;33m\u001b[0m\u001b[1;33m\u001b[0m\u001b[0m\n\u001b[0;32m   1313\u001b[0m \u001b[1;33m\u001b[0m\u001b[0m\n\u001b[1;32m-> 1314\u001b[1;33m         \u001b[0mself\u001b[0m\u001b[1;33m.\u001b[0m\u001b[0m_validate_read_indexer\u001b[0m\u001b[1;33m(\u001b[0m\u001b[0mkeyarr\u001b[0m\u001b[1;33m,\u001b[0m \u001b[0mindexer\u001b[0m\u001b[1;33m,\u001b[0m \u001b[0maxis\u001b[0m\u001b[1;33m)\u001b[0m\u001b[1;33m\u001b[0m\u001b[1;33m\u001b[0m\u001b[0m\n\u001b[0m\u001b[0;32m   1315\u001b[0m \u001b[1;33m\u001b[0m\u001b[0m\n\u001b[0;32m   1316\u001b[0m         if needs_i8_conversion(ax.dtype) or isinstance(\n",
      "\u001b[1;32mc:\\Users\\rosst\\Miniconda3\\lib\\site-packages\\pandas\\core\\indexing.py\u001b[0m in \u001b[0;36m_validate_read_indexer\u001b[1;34m(self, key, indexer, axis)\u001b[0m\n\u001b[0;32m   1375\u001b[0m \u001b[1;33m\u001b[0m\u001b[0m\n\u001b[0;32m   1376\u001b[0m             \u001b[0mnot_found\u001b[0m \u001b[1;33m=\u001b[0m \u001b[0mlist\u001b[0m\u001b[1;33m(\u001b[0m\u001b[0mensure_index\u001b[0m\u001b[1;33m(\u001b[0m\u001b[0mkey\u001b[0m\u001b[1;33m)\u001b[0m\u001b[1;33m[\u001b[0m\u001b[0mmissing_mask\u001b[0m\u001b[1;33m.\u001b[0m\u001b[0mnonzero\u001b[0m\u001b[1;33m(\u001b[0m\u001b[1;33m)\u001b[0m\u001b[1;33m[\u001b[0m\u001b[1;36m0\u001b[0m\u001b[1;33m]\u001b[0m\u001b[1;33m]\u001b[0m\u001b[1;33m.\u001b[0m\u001b[0munique\u001b[0m\u001b[1;33m(\u001b[0m\u001b[1;33m)\u001b[0m\u001b[1;33m)\u001b[0m\u001b[1;33m\u001b[0m\u001b[1;33m\u001b[0m\u001b[0m\n\u001b[1;32m-> 1377\u001b[1;33m             \u001b[1;32mraise\u001b[0m \u001b[0mKeyError\u001b[0m\u001b[1;33m(\u001b[0m\u001b[1;34mf\"{not_found} not in index\"\u001b[0m\u001b[1;33m)\u001b[0m\u001b[1;33m\u001b[0m\u001b[1;33m\u001b[0m\u001b[0m\n\u001b[0m\u001b[0;32m   1378\u001b[0m \u001b[1;33m\u001b[0m\u001b[0m\n\u001b[0;32m   1379\u001b[0m \u001b[1;33m\u001b[0m\u001b[0m\n",
      "\u001b[1;31mKeyError\u001b[0m: \"['steady_state_concentration'] not in index\""
     ]
    }
   ],
   "source": [
    "phreatic_transport.df_particle.loc[:,['zone', 'steady_state_concentration', 'travel_time']]"
   ]
  },
  {
   "cell_type": "markdown",
   "metadata": {},
   "source": [
    "View the steady-state concentration of the flowline or the steady-state\n",
    "contribution of the flowline to the concentration in the well"
   ]
  },
  {
   "cell_type": "code",
   "execution_count": null,
   "metadata": {},
   "outputs": [
    {
     "data": {
      "text/html": [
       "<div>\n",
       "<style scoped>\n",
       "    .dataframe tbody tr th:only-of-type {\n",
       "        vertical-align: middle;\n",
       "    }\n",
       "\n",
       "    .dataframe tbody tr th {\n",
       "        vertical-align: top;\n",
       "    }\n",
       "\n",
       "    .dataframe thead th {\n",
       "        text-align: right;\n",
       "    }\n",
       "</style>\n",
       "<table border=\"1\" class=\"dataframe\">\n",
       "  <thead>\n",
       "    <tr style=\"text-align: right;\">\n",
       "      <th></th>\n",
       "      <th>breakthrough_concentration</th>\n",
       "      <th>total_breakthrough_travel_time</th>\n",
       "    </tr>\n",
       "  </thead>\n",
       "  <tbody>\n",
       "    <tr>\n",
       "      <th>1</th>\n",
       "      <td>0.0</td>\n",
       "      <td>153126686</td>\n",
       "    </tr>\n",
       "    <tr>\n",
       "      <th>2</th>\n",
       "      <td>0.0</td>\n",
       "      <td>151835622</td>\n",
       "    </tr>\n",
       "    <tr>\n",
       "      <th>3</th>\n",
       "      <td>0.0</td>\n",
       "      <td>150695767</td>\n",
       "    </tr>\n",
       "    <tr>\n",
       "      <th>4</th>\n",
       "      <td>0.0</td>\n",
       "      <td>150530122</td>\n",
       "    </tr>\n",
       "    <tr>\n",
       "      <th>5</th>\n",
       "      <td>0.0</td>\n",
       "      <td>151076295</td>\n",
       "    </tr>\n",
       "  </tbody>\n",
       "</table>\n",
       "</div>"
      ],
      "text/plain": [
       "   breakthrough_concentration  total_breakthrough_travel_time\n",
       "1                         0.0                       153126686\n",
       "2                         0.0                       151835622\n",
       "3                         0.0                       150695767\n",
       "4                         0.0                       150530122\n",
       "5                         0.0                       151076295"
      ]
     },
     "execution_count": 194,
     "metadata": {},
     "output_type": "execute_result"
    }
   ],
   "source": [
    "phreatic_transport.df_flowline.loc[:,['breakthrough_concentration', 'total_breakthrough_travel_time']].head(5)\n"
   ]
  },
  {
   "cell_type": "markdown",
   "metadata": {},
   "source": [
    "Plot the breakthrough curve at the well over time:"
   ]
  },
  {
   "cell_type": "code",
   "execution_count": null,
   "metadata": {},
   "outputs": [
    {
     "data": {
      "image/png": "[encoded data removed]",
      "text/plain": [
       "<Figure size 720x360 with 1 Axes>"
      ]
     },
     "metadata": {
      "needs_background": "light"
     },
     "output_type": "display_data"
    }
   ],
   "source": [
    "benzene_plot = phreatic_transport.plot_concentration(ylim=[0,10 ])"
   ]
  },
  {
   "cell_type": "markdown",
   "metadata": {},
   "source": [
    "You can also compute the removal for a different OMP of interest:\n",
    "\n",
    "* OMP-X: a ficticous OMP with no degradation or sorption\n",
    "* AMPA\n",
    "* benzo(a)pyrene\n",
    "\n",
    "To do so you can use the original schematisation, but specify a different OMP when you create\n",
    "the Transport object."
   ]
  },
  {
   "cell_type": "code",
   "execution_count": null,
   "metadata": {},
   "outputs": [
    {
     "name": "stdout",
     "output_type": "stream",
     "text": [
      "{'substance_name': 'OMP-X', 'log_Koc': 0, 'molar_mass': 100, 'pKa': 99, 'omp_half_life': {'suboxic': 1e+99, 'anoxic': 1e+99, 'deeply_anoxic': 1e+99}}\n"
     ]
    }
   ],
   "source": [
    "# phreatic_well = AW.AnalyticalWell(phreatic_schematisation)\n",
    "phreatic_well.phreatic() \n",
    "# removal parameters OMP-X (default)\n",
    "substance_ompx = TR.Substance(substance_name = \"OMP-X\")\n",
    "print(substance_ompx.substance_dict)\n",
    "# Transport object\n",
    "phreatic_transport = TR.Transport(phreatic_well, pollutant = substance_ompx)\n",
    "phreatic_transport.compute_omp_removal()\n"
   ]
  },
  {
   "cell_type": "code",
   "execution_count": null,
   "metadata": {},
   "outputs": [
    {
     "data": {
      "image/png": "[encoded data removed]",
      "text/plain": [
       "<Figure size 720x360 with 1 Axes>"
      ]
     },
     "metadata": {
      "needs_background": "light"
     },
     "output_type": "display_data"
    }
   ],
   "source": [
    "\n",
    "# Plot the breakthrough concentration\n",
    "omp_x_plot = phreatic_transport.plot_concentration(ylim=[0,100 ])\n"
   ]
  },
  {
   "cell_type": "code",
   "execution_count": null,
   "metadata": {},
   "outputs": [
    {
     "name": "stdout",
     "output_type": "stream",
     "text": [
      "{'substance_name': 'benzo(a)pyrene', 'log_Koc': 6.43, 'molar_mass': 252.3, 'pKa': 99, 'omp_half_life': {'suboxic': 530, 'anoxic': 2120, 'deeply_anoxic': 2120}}\n"
     ]
    }
   ],
   "source": [
    "# phreatic_well = AW.AnalyticalWell(phreatic_schematisation)\n",
    "phreatic_well.phreatic() \n",
    "\n",
    "# removal parameters benzo(a)pyrene (default)\n",
    "substance_benzpy = TR.Substance(substance_name = \"benzo(a)pyrene\")\n",
    "print(substance_benzpy.substance_dict)\n",
    "# Transport object\n",
    "phreatic_transport = TR.Transport(phreatic_well, pollutant = substance_benzpy)\n",
    "phreatic_transport.compute_omp_removal()\n"
   ]
  },
  {
   "cell_type": "code",
   "execution_count": null,
   "metadata": {},
   "outputs": [
    {
     "data": {
      "image/png": "[encoded data removed]",
      "text/plain": [
       "<Figure size 720x360 with 1 Axes>"
      ]
     },
     "metadata": {
      "needs_background": "light"
     },
     "output_type": "display_data"
    }
   ],
   "source": [
    "\n",
    "benzo_plot = phreatic_transport.plot_concentration(ylim=[0,1])\n"
   ]
  },
  {
   "cell_type": "code",
   "execution_count": null,
   "metadata": {},
   "outputs": [
    {
     "name": "stdout",
     "output_type": "stream",
     "text": [
      "{'substance_name': 'AMPA', 'log_Koc': -0.36, 'molar_mass': 111.04, 'pKa': 0.4, 'omp_half_life': {'suboxic': 46, 'anoxic': 46, 'deeply_anoxic': 1e+99}}\n"
     ]
    }
   ],
   "source": [
    "# phreatic_well = AW.AnalyticalWell(phreatic_schematisation)\n",
    "phreatic_well.phreatic() \n",
    "# removal parameters AMPA (default)\n",
    "substance_ampa = TR.Substance(substance_name = \"AMPA\")\n",
    "print(substance_ampa.substance_dict)\n",
    "# Transport object\n",
    "phreatic_concentration = TR.Transport(phreatic_well, pollutant = substance_ampa)\n",
    "phreatic_concentration.compute_omp_removal()\n"
   ]
  },
  {
   "cell_type": "code",
   "execution_count": null,
   "metadata": {},
   "outputs": [
    {
     "data": {
      "image/png": "[encoded data removed]",
      "text/plain": [
       "<Figure size 720x360 with 1 Axes>"
      ]
     },
     "metadata": {
      "needs_background": "light"
     },
     "output_type": "display_data"
    }
   ],
   "source": [
    "\n",
    "ampa_plot = phreatic_concentration.plot_concentration( ylim=[0,1])\n"
   ]
  },
  {
   "cell_type": "markdown",
   "metadata": {},
   "source": [
    "The total travel time can be plotted as a function of radial distance from the well, or as a function\n",
    "of the cumulative fraction of abstracted water: "
   ]
  },
  {
   "cell_type": "code",
   "execution_count": null,
   "metadata": {},
   "outputs": [
    {
     "data": {
      "image/png": "[encoded data removed]",
      "text/plain": [
       "<Figure size 720x360 with 1 Axes>"
      ]
     },
     "metadata": {
      "needs_background": "light"
     },
     "output_type": "display_data"
    }
   ],
   "source": [
    "radial_plot = phreatic_well.plot_travel_time_versus_radial_distance(xlim=[0, 2000], ylim=[1e3, 1e6])\n"
   ]
  },
  {
   "cell_type": "code",
   "execution_count": null,
   "metadata": {},
   "outputs": [
    {
     "data": {
      "image/png": "[encoded data removed]",
      "text/plain": [
       "<Figure size 720x360 with 1 Axes>"
      ]
     },
     "metadata": {
      "needs_background": "light"
     },
     "output_type": "display_data"
    }
   ],
   "source": [
    "cumulative_plot = phreatic_well.plot_travel_time_versus_cumulative_abstracted_water(xlim=[0, 1], ylim=[1e3, 1e6])"
   ]
  }
 ],
 "metadata": {
  "kernelspec": {
   "display_name": "Python 3.9.5 ('base')",
   "language": "python",
   "name": "python3"
  },
  "language_info": {
   "codemirror_mode": {
    "name": "ipython",
    "version": 3
   },
   "file_extension": ".py",
   "mimetype": "text/x-python",
   "name": "python",
   "nbconvert_exporter": "python",
   "pygments_lexer": "ipython3",
   "version": "3.9.5"
  },
  "orig_nbformat": 4,
  "vscode": {
   "interpreter": {
    "hash": "b1927a54a93164515be0cd943a58faec848a387ed14458738e2b63e769905115"
   }
  }
 },
 "nbformat": 4,
 "nbformat_minor": 2
}
