{
 "cells": [
  {
   "cell_type": "markdown",
   "metadata": {},
   "source": [
    "--------------------------------------------------------------------------------\n",
    "Travel time calculation using ModPathWell class, combined with 'mbo removal'\n",
    "--------------------------------------------------------------------------------\n",
    "\n",
    "Example to calculate the travel time distribution per geological layer for a \n",
    ".. phreatic scheme, and to calculate the removal of microbial organisms (mbo). \n",
    ".. For an extensive description of the steps, see the basic example [AnalyticalWell & OMP removal](https://github.com/KWR-Water/sutra2/blob/main/research/Tutorial_AW_omp_removal.ipynb).\n",
    "\n",
    "________________________________________\n",
    "\n",
    "Import packages\n",
    "-----------------\n",
    "\n",
    "First we import the necessary python packages"
   ]
  },
  {
   "cell_type": "code",
   "execution_count": 88,
   "metadata": {},
   "outputs": [
    {
     "name": "stdout",
     "output_type": "stream",
     "text": [
      "d:\\Sutra2_tool\\sutra2\\research\n",
      "The autoreload extension is already loaded. To reload it, use:\n",
      "  %reload_ext autoreload\n"
     ]
    }
   ],
   "source": [
    "import pandas as pd\n",
    "from pathlib import Path\n",
    "from set_cwd_to_project_root import project_root\n",
    "\n",
    "import matplotlib.pyplot as plt\n",
    "import numpy as np\n",
    "import pandas as pd\n",
    "import os\n",
    "from pandas import read_csv\n",
    "from pandas import read_excel\n",
    "import math\n",
    "from scipy.special import kn as besselk\n",
    "import sutra2.Analytical_Well as AW\n",
    "import sutra2.ModPath_Well as mpw\n",
    "import sutra2.Transport_Removal as TR\n",
    "\n",
    "import warnings \n",
    "warnings.filterwarnings(action= 'ignore')\n",
    "\n",
    "# get directory of this file\n",
    "path = Path(project_root)\n",
    "print(path)\n",
    "\n",
    "%load_ext autoreload\n",
    "%autoreload 2"
   ]
  },
  {
   "cell_type": "markdown",
   "metadata": {},
   "source": [
    "Step 1: Define the HydroChemicalSchematisation\n",
    "-----------------------------------------------\n",
    "The first step is to define the hydrogeochemistry of the system using the HydroChemicalSchematisation class."
   ]
  },
  {
   "cell_type": "code",
   "execution_count": 89,
   "metadata": {},
   "outputs": [],
   "source": [
    "# Lets start with a simple example defining a HydroChemicalSchematisation object for a phreatic aquifer:\n",
    "phreatic_schematisation = AW.HydroChemicalSchematisation(schematisation_type='phreatic',\n",
    "                                                    computation_method = 'modpath',\n",
    "                                                    well_discharge=-7500, #m3/day\n",
    "                                                    recharge_rate=0.0008, #m/day\n",
    "                                                    thickness_vadose_zone_at_boundary=5, #m\n",
    "                                                    thickness_shallow_aquifer=10,  #m\n",
    "                                                    thickness_target_aquifer=40, #m\n",
    "                                                    hor_permeability_target_aquifer=35, #m/day\n",
    "                                                    redox_vadose_zone='anoxic',\n",
    "                                                    redox_shallow_aquifer='anoxic',\n",
    "                                                    redox_target_aquifer='deeply_anoxic',\n",
    "                                                    pH_target_aquifer=7.,\n",
    "                                                    temp_water=11.,\n",
    "                                                    diffuse_input_concentration = 100, #ug/L\n",
    "                                                    )"
   ]
  },
  {
   "cell_type": "markdown",
   "metadata": {},
   "source": [
    "Then, we create a ModpathWell object for the HydroChemicalSchematisation object that we just made.\n",
    "The ModpathWell object requires a dictionary of the subsurface schematisation and a set of boundary conditions the numerical model has to abide by in calculating flow velocity and direction of flow."
   ]
  },
  {
   "cell_type": "code",
   "execution_count": 90,
   "metadata": {},
   "outputs": [],
   "source": [
    "phreatic_schematisation.make_dictionary()"
   ]
  },
  {
   "cell_type": "code",
   "execution_count": 91,
   "metadata": {},
   "outputs": [],
   "source": [
    "# Set workspace\n",
    "workspace = os.path.join(path, \"mpw_mboremoval\")\n",
    "if not os.path.exists(workspace):\n",
    "    os.makedirs(workspace)"
   ]
  },
  {
   "cell_type": "markdown",
   "metadata": {},
   "source": [
    "Step 2: Run the ModpathWell class\n",
    "-----------------------------------\n",
    "Next we create an ModpathWell object for the HydroChemicalSchematisation object we just made.\n",
    "The data files will be stored in location workspace using a given modelname."
   ]
  },
  {
   "cell_type": "code",
   "execution_count": 92,
   "metadata": {},
   "outputs": [],
   "source": [
    "modpath_phrea = mpw.ModPathWell(phreatic_schematisation,\n",
    "                            workspace = workspace,\n",
    "                            modelname = \"phreatic\")"
   ]
  },
  {
   "cell_type": "markdown",
   "metadata": {},
   "source": [
    "Now we run the Modpath model, which numerically calculates the flow in the subsurface using the \n",
    "'schematisation' dictionary stored in the HydroChemicalSchematisation object. By default the model will calculate both the hydraulic head distribution (using modflow: 'run_mfmodel' = True) and the particle pathlines [X,Y,Z,T-data] (using modpath: 'run_mpmodel' = True) with which OMP removal or microbial organism ('mbo') removal is later calculated.\n"
   ]
  },
  {
   "cell_type": "code",
   "execution_count": 93,
   "metadata": {},
   "outputs": [
    {
     "name": "stdout",
     "output_type": "stream",
     "text": [
      "Run phreatic model\n",
      "Run model: d:\\Sutra2_tool\\sutra2\\research\\mpw_mboremoval phreatic\n",
      "\n",
      "FloPy is using the following executable to run the model: .\\mf2005.exe\n",
      "\n",
      "                                  MODFLOW-2005     \n",
      "    U.S. GEOLOGICAL SURVEY MODULAR FINITE-DIFFERENCE GROUND-WATER FLOW MODEL\n",
      "                             Version 1.9.01 5/01/2012                        \n",
      "\n",
      " Using NAME file: phreatic.nam \n",
      " Run start date and time (yyyy/mm/dd hh:mm:ss): 2022/07/28 10:33:18\n",
      "\n",
      " Solving:  Stress period:     1    Time step:     1    Ground-Water Flow Eqn.\n",
      " Run end date and time (yyyy/mm/dd hh:mm:ss): 2022/07/28 10:33:18\n",
      " Elapsed run time:  0.036 Seconds\n",
      "\n",
      "  Normal termination of simulation\n",
      "Model run d:\\Sutra2_tool\\sutra2\\research\\mpw_mboremoval phreatic completed without errors: True\n",
      "Run modpath: d:\\Sutra2_tool\\sutra2\\research\\mpw_mboremoval phreatic\n",
      "\n",
      "FloPy is using the following executable to run the model: .\\mpath7.exe\n",
      "\n",
      "MODPATH Version 7.2.001   \n",
      "Program compiled Dec 22 2017 11:11:36 with IFORT compiler (ver. 16.0.0)         \n",
      " \n",
      " \n",
      "Run particle tracking simulation ...\n",
      "Processing Time Step     1 Period     1.  Time =  1.82500E+04  Steady-state flow                                                    \n",
      "\n",
      "Particle Summary:\n",
      "         0 particles are pending release.\n",
      "         0 particles remain active.\n",
      "         0 particles terminated at boundary faces.\n",
      "         0 particles terminated at weak sink cells.\n",
      "         0 particles terminated at weak source cells.\n",
      "        50 particles terminated at strong source/sink cells.\n",
      "         0 particles terminated in cells with a specified zone number.\n",
      "         0 particles were stranded in inactive or dry cells.\n",
      "         0 particles were unreleased.\n",
      "         0 particles have an unknown status.\n",
      " \n",
      "Normal termination.                                                        \n",
      "ModPath run d:\\Sutra2_tool\\sutra2\\research\\mpw_mboremoval phreatic completed succesfully.\n",
      "modelrun of type phreatic completed.\n",
      "Post-processing modpathrun completed.\n"
     ]
    }
   ],
   "source": [
    "modpath_phrea.run_model(run_mfmodel = True,\n",
    "                    run_mpmodel = True)"
   ]
  },
  {
   "cell_type": "markdown",
   "metadata": {},
   "source": [
    "____________________________________\n",
    "\n",
    "\n",
    "Step 3: Collect removal parameters for the mbo (MicrobialOrganism)\n",
    "-------------------------------------------------------------------\n",
    "\n",
    "You can retrieve the default removal parameters used to calculate the removal of microbial organisms [mbo] \n",
    "in the Transport class. The data are stored in a dictionary. In the example, plant pathogen 'solani' is used."
   ]
  },
  {
   "cell_type": "code",
   "execution_count": 94,
   "metadata": {},
   "outputs": [
    {
     "data": {
      "text/plain": [
       "{'organism_name': 'solani',\n",
       " 'alpha0': {'suboxic': 0.037, 'anoxic': 0.00037, 'deeply_anoxic': 0.00037},\n",
       " 'pH0': {'suboxic': 7.5, 'anoxic': 7.5, 'deeply_anoxic': 7.5},\n",
       " 'organism_diam': 2.731e-06,\n",
       " 'mu1': {'suboxic': 1.2472, 'anoxic': 0.1151, 'deeply_anoxic': 0.1151}}"
      ]
     },
     "execution_count": 94,
     "metadata": {},
     "output_type": "execute_result"
    }
   ],
   "source": [
    "test_organism = TR.MicrobialOrganism(organism_name='solani')\n",
    "test_organism.organism_dict"
   ]
  },
  {
   "cell_type": "markdown",
   "metadata": {},
   "source": [
    "To obtain a list of Organisms included in the MicrobialOrganism class, see organism_database."
   ]
  },
  {
   "cell_type": "code",
   "execution_count": 95,
   "metadata": {},
   "outputs": [
    {
     "name": "stdout",
     "output_type": "stream",
     "text": [
      "solani \n",
      " {'organism_name': 'solani', 'alpha0': {'suboxic': 0.037, 'anoxic': 0.00037, 'deeply_anoxic': 0.00037}, 'pH0': {'suboxic': 7.5, 'anoxic': 7.5, 'deeply_anoxic': 7.5}, 'organism_diam': 2.731e-06, 'mu1': {'suboxic': 1.2472, 'anoxic': 0.1151, 'deeply_anoxic': 0.1151}} \n",
      "\n",
      "carotovorum \n",
      " {'organism_name': 'carotovorum', 'alpha0': {'suboxic': 0.3, 'anoxic': 0.577, 'deeply_anoxic': 0.577}, 'pH0': {'suboxic': 7.5, 'anoxic': 7.5, 'deeply_anoxic': 7.5}, 'organism_diam': 1.803e-06, 'mu1': {'suboxic': 1.2664, 'anoxic': 0.1279, 'deeply_anoxic': 0.1279}} \n",
      "\n",
      "solanacearum \n",
      " {'organism_name': 'solanacearum', 'alpha0': {'suboxic': 0.011, 'anoxic': 0.456, 'deeply_anoxic': 0.456}, 'pH0': {'suboxic': 7.5, 'anoxic': 7.5, 'deeply_anoxic': 7.5}, 'organism_diam': 1.945e-06, 'mu1': {'suboxic': 0.3519, 'anoxic': 0.1637, 'deeply_anoxic': 0.1637}} \n",
      "\n"
     ]
    }
   ],
   "source": [
    "for key, val in test_organism.micro_organism_database.items():\n",
    "    print(key,\"\\n\",val,\"\\n\")"
   ]
  },
  {
   "cell_type": "markdown",
   "metadata": {},
   "source": [
    "Optional: You may specify a different value for the organism removal parameters, for example\n",
    "a different inactivation coefficient [mu1] for the anoxic redox zone. This can be input in the Transport class\n",
    "and this will be used in the calculation for the removal of the microbial organism. "
   ]
  },
  {
   "cell_type": "code",
   "execution_count": 96,
   "metadata": {},
   "outputs": [],
   "source": [
    "# Define removal parameters of pollutant\n",
    "organism_solani_anox = TR.MicrobialOrganism(organism_name = 'solani',\n",
    "                                    alpha0_suboxic=None,\n",
    "                                    alpha0_anoxic=1.e-4,\n",
    "                                    alpha0_deeply_anoxic=1.e-5,\n",
    "                                    pH0_suboxic=None,\n",
    "                                    pH0_anoxic=7.5,\n",
    "                                    pH0_deeply_anoxic=7.5,\n",
    "                                    mu1_suboxic=None,\n",
    "                                    mu1_anoxic=0.0001,\n",
    "                                    mu1_deeply_anoxic=0.00001,\n",
    "                                    )"
   ]
  },
  {
   "cell_type": "markdown",
   "metadata": {},
   "source": [
    "If you have specified values for the mbo (e.g. alpha0, pH0, mu1),\n",
    "the default value is overwritten and used in the calculation of the removal. You can\n",
    "view the updated organism removal parameters from the concentration object"
   ]
  },
  {
   "cell_type": "code",
   "execution_count": 97,
   "metadata": {},
   "outputs": [
    {
     "data": {
      "text/plain": [
       "{'organism_name': 'solani',\n",
       " 'alpha0': {'suboxic': 0.037, 'anoxic': 0.0001, 'deeply_anoxic': 1e-05},\n",
       " 'pH0': {'suboxic': 7.5, 'anoxic': 7.5, 'deeply_anoxic': 7.5},\n",
       " 'organism_diam': 2.731e-06,\n",
       " 'mu1': {'suboxic': 1.2472, 'anoxic': 0.0001, 'deeply_anoxic': 1e-05}}"
      ]
     },
     "execution_count": 97,
     "metadata": {},
     "output_type": "execute_result"
    }
   ],
   "source": [
    "organism_solani_anox.organism_dict"
   ]
  },
  {
   "cell_type": "markdown",
   "metadata": {},
   "source": [
    "> Note: for organic micropollutants call the Substance class.\n",
    "> See example for AnalyticalWell plus omp removal.\n",
    "> \n",
    "> test_substance = TR.Substance(substance_name='benzene')\n",
    "> test_substance.substance_dict\n",
    "\n",
    "____________________________________"
   ]
  },
  {
   "cell_type": "markdown",
   "metadata": {},
   "source": [
    "Step 4: Run the Transport class\n",
    "--------------------------------\n",
    "To calculate the removal and the steady-state concentration in each zone, create a concentration\n",
    "object by running the Transport class with the phreatic_well object and specifying\n",
    "the microbial organism of interest.\n",
    "\n",
    "In this example we use solani. First we create the object and view the substance properties:"
   ]
  },
  {
   "cell_type": "code",
   "execution_count": 98,
   "metadata": {},
   "outputs": [
    {
     "data": {
      "text/plain": [
       "{'organism_name': 'solani',\n",
       " 'alpha0': {'suboxic': 0.037, 'anoxic': 0.00037, 'deeply_anoxic': 0.00037},\n",
       " 'pH0': {'suboxic': 7.5, 'anoxic': 7.5, 'deeply_anoxic': 7.5},\n",
       " 'organism_diam': 2.731e-06,\n",
       " 'mu1': {'suboxic': 1.2472, 'anoxic': 0.1151, 'deeply_anoxic': 0.1151}}"
      ]
     },
     "execution_count": 98,
     "metadata": {},
     "output_type": "execute_result"
    }
   ],
   "source": [
    "# Call transport class\n",
    "phreatic_transport = TR.Transport(well = modpath_phrea, pollutant = test_organism)\n",
    "# check removal parameters\n",
    "phreatic_transport.removal_parameters\n"
   ]
  },
  {
   "cell_type": "markdown",
   "metadata": {},
   "source": [
    "Then we can compute the removal by running the 'calc_advective_microbial_removal' function"
   ]
  },
  {
   "cell_type": "code",
   "execution_count": 99,
   "metadata": {},
   "outputs": [
    {
     "name": "stdout",
     "output_type": "stream",
     "text": [
      "endpoint_id list: ['well1']\n",
      "Final concentration well1: 1.825060929814927e-54\n"
     ]
    }
   ],
   "source": [
    "# list endpoint ids\n",
    "endpoint_ids = phreatic_transport.well.df_flowline.loc[:,\"endpoint_id\"].unique()\n",
    "print(f\"endpoint_id list: {endpoint_ids}\")\n",
    "\n",
    "# keep track of final cocnentration per endpoint_id\n",
    "C_final = {}\n",
    "# Update df_flowline and df_particle. Calculate final concentration at endpoint_id(s)\n",
    "for endpoint_id in endpoint_ids:\n",
    "    df_particle, df_flowline, C_final[endpoint_id] = phreatic_transport.calc_advective_microbial_removal(\n",
    "                                                endpoint_id = endpoint_id)\n",
    "    print(f\"Final concentration {endpoint_id}: {C_final[endpoint_id]}\")"
   ]
  },
  {
   "cell_type": "markdown",
   "metadata": {},
   "source": [
    "Once the removal has been calculated, you can view the steady-state concentration\n",
    "and breakthrough time per zone for the mbo in the df_particle:"
   ]
  },
  {
   "cell_type": "code",
   "execution_count": 100,
   "metadata": {},
   "outputs": [
    {
     "data": {
      "text/html": [
       "<div>\n",
       "<style scoped>\n",
       "    .dataframe tbody tr th:only-of-type {\n",
       "        vertical-align: middle;\n",
       "    }\n",
       "\n",
       "    .dataframe tbody tr th {\n",
       "        vertical-align: top;\n",
       "    }\n",
       "\n",
       "    .dataframe thead th {\n",
       "        text-align: right;\n",
       "    }\n",
       "</style>\n",
       "<table border=\"1\" class=\"dataframe\">\n",
       "  <thead>\n",
       "    <tr style=\"text-align: right;\">\n",
       "      <th></th>\n",
       "      <th>zone</th>\n",
       "      <th>steady_state_concentration</th>\n",
       "      <th>travel_time</th>\n",
       "    </tr>\n",
       "    <tr>\n",
       "      <th>flowline_id</th>\n",
       "      <th></th>\n",
       "      <th></th>\n",
       "      <th></th>\n",
       "    </tr>\n",
       "  </thead>\n",
       "  <tbody>\n",
       "    <tr>\n",
       "      <th>0</th>\n",
       "      <td>vadose_zone</td>\n",
       "      <td>100.0</td>\n",
       "      <td>0.000000</td>\n",
       "    </tr>\n",
       "    <tr>\n",
       "      <th>0</th>\n",
       "      <td>shallow_aquifer</td>\n",
       "      <td>0.0</td>\n",
       "      <td>3714.000000</td>\n",
       "    </tr>\n",
       "    <tr>\n",
       "      <th>0</th>\n",
       "      <td>target_aquifer</td>\n",
       "      <td>0.0</td>\n",
       "      <td>0.292480</td>\n",
       "    </tr>\n",
       "    <tr>\n",
       "      <th>0</th>\n",
       "      <td>gravelpack1</td>\n",
       "      <td>0.0</td>\n",
       "      <td>0.009766</td>\n",
       "    </tr>\n",
       "    <tr>\n",
       "      <th>0</th>\n",
       "      <td>well1</td>\n",
       "      <td>0.0</td>\n",
       "      <td>0.000977</td>\n",
       "    </tr>\n",
       "    <tr>\n",
       "      <th>...</th>\n",
       "      <td>...</td>\n",
       "      <td>...</td>\n",
       "      <td>...</td>\n",
       "    </tr>\n",
       "    <tr>\n",
       "      <th>49</th>\n",
       "      <td>target_aquifer</td>\n",
       "      <td>0.0</td>\n",
       "      <td>0.164062</td>\n",
       "    </tr>\n",
       "    <tr>\n",
       "      <th>49</th>\n",
       "      <td>target_aquifer</td>\n",
       "      <td>0.0</td>\n",
       "      <td>0.125000</td>\n",
       "    </tr>\n",
       "    <tr>\n",
       "      <th>49</th>\n",
       "      <td>target_aquifer</td>\n",
       "      <td>0.0</td>\n",
       "      <td>0.078125</td>\n",
       "    </tr>\n",
       "    <tr>\n",
       "      <th>49</th>\n",
       "      <td>gravelpack1</td>\n",
       "      <td>0.0</td>\n",
       "      <td>0.031250</td>\n",
       "    </tr>\n",
       "    <tr>\n",
       "      <th>49</th>\n",
       "      <td>well1</td>\n",
       "      <td>0.0</td>\n",
       "      <td>0.000000</td>\n",
       "    </tr>\n",
       "  </tbody>\n",
       "</table>\n",
       "<p>3617 rows × 3 columns</p>\n",
       "</div>"
      ],
      "text/plain": [
       "                        zone steady_state_concentration  travel_time\n",
       "flowline_id                                                         \n",
       "0                vadose_zone                      100.0     0.000000\n",
       "0            shallow_aquifer                        0.0  3714.000000\n",
       "0             target_aquifer                        0.0     0.292480\n",
       "0                gravelpack1                        0.0     0.009766\n",
       "0                      well1                        0.0     0.000977\n",
       "...                      ...                        ...          ...\n",
       "49            target_aquifer                        0.0     0.164062\n",
       "49            target_aquifer                        0.0     0.125000\n",
       "49            target_aquifer                        0.0     0.078125\n",
       "49               gravelpack1                        0.0     0.031250\n",
       "49                     well1                        0.0     0.000000\n",
       "\n",
       "[3617 rows x 3 columns]"
      ]
     },
     "execution_count": 100,
     "metadata": {},
     "output_type": "execute_result"
    }
   ],
   "source": [
    "phreatic_transport.df_particle.loc[:,['zone', 'steady_state_concentration', 'travel_time']]"
   ]
  },
  {
   "cell_type": "markdown",
   "metadata": {},
   "source": [
    "View the steady-state concentration of the flowline or the steady-state\n",
    "contribution of the flowline to the concentration in the well"
   ]
  },
  {
   "cell_type": "code",
   "execution_count": 101,
   "metadata": {},
   "outputs": [
    {
     "data": {
      "text/html": [
       "<div>\n",
       "<style scoped>\n",
       "    .dataframe tbody tr th:only-of-type {\n",
       "        vertical-align: middle;\n",
       "    }\n",
       "\n",
       "    .dataframe tbody tr th {\n",
       "        vertical-align: top;\n",
       "    }\n",
       "\n",
       "    .dataframe thead th {\n",
       "        text-align: right;\n",
       "    }\n",
       "</style>\n",
       "<table border=\"1\" class=\"dataframe\">\n",
       "  <thead>\n",
       "    <tr style=\"text-align: right;\">\n",
       "      <th></th>\n",
       "      <th>breakthrough_concentration</th>\n",
       "      <th>total_breakthrough_travel_time</th>\n",
       "    </tr>\n",
       "    <tr>\n",
       "      <th>flowline_id</th>\n",
       "      <th></th>\n",
       "      <th></th>\n",
       "    </tr>\n",
       "  </thead>\n",
       "  <tbody>\n",
       "    <tr>\n",
       "      <th>0</th>\n",
       "      <td>1.918385e-58</td>\n",
       "      <td>14856</td>\n",
       "    </tr>\n",
       "    <tr>\n",
       "      <th>1</th>\n",
       "      <td>5.177252e-55</td>\n",
       "      <td>20970</td>\n",
       "    </tr>\n",
       "    <tr>\n",
       "      <th>2</th>\n",
       "      <td>3.837520e-54</td>\n",
       "      <td>24042</td>\n",
       "    </tr>\n",
       "    <tr>\n",
       "      <th>3</th>\n",
       "      <td>5.197099e-53</td>\n",
       "      <td>26842</td>\n",
       "    </tr>\n",
       "    <tr>\n",
       "      <th>4</th>\n",
       "      <td>5.721684e-52</td>\n",
       "      <td>29479</td>\n",
       "    </tr>\n",
       "  </tbody>\n",
       "</table>\n",
       "</div>"
      ],
      "text/plain": [
       "             breakthrough_concentration  total_breakthrough_travel_time\n",
       "flowline_id                                                            \n",
       "0                          1.918385e-58                           14856\n",
       "1                          5.177252e-55                           20970\n",
       "2                          3.837520e-54                           24042\n",
       "3                          5.197099e-53                           26842\n",
       "4                          5.721684e-52                           29479"
      ]
     },
     "execution_count": 101,
     "metadata": {},
     "output_type": "execute_result"
    }
   ],
   "source": [
    "phreatic_transport.df_flowline.loc[:,['breakthrough_concentration', 'total_breakthrough_travel_time']].head(5)"
   ]
  },
  {
   "cell_type": "markdown",
   "metadata": {},
   "source": [
    "Plot the breakthrough curve at the well over time:"
   ]
  },
  {
   "cell_type": "code",
   "execution_count": 102,
   "metadata": {},
   "outputs": [
    {
     "data": {
      "image/png": "[encoded data removed]",
      "text/plain": [
       "<Figure size 720x360 with 1 Axes>"
      ]
     },
     "metadata": {
      "needs_background": "light"
     },
     "output_type": "display_data"
    }
   ],
   "source": [
    "solani_plot = phreatic_transport.plot_concentration(ylim=[0,10 ], as_fraction_input = True)"
   ]
  },
  {
   "cell_type": "markdown",
   "metadata": {},
   "source": [
    "You can also compute the removal for a different mbo of interest (plant pathogens):\n",
    "\n",
    "* carotovorum\n",
    "* solanacearum\n",
    "\n",
    "Or optionally a different species of own choice (non-default):\n",
    "* MS2 (virus)\n",
    "\n",
    "To do so you can use the original schematisation, but specify a different mbo when you create the Transport object."
   ]
  },
  {
   "cell_type": "markdown",
   "metadata": {},
   "source": [
    "species: carotovorum (default)\n",
    "-------------------------------"
   ]
  },
  {
   "cell_type": "code",
   "execution_count": 103,
   "metadata": {},
   "outputs": [
    {
     "name": "stdout",
     "output_type": "stream",
     "text": [
      "Run phreatic model\n",
      "Run model: d:\\Sutra2_tool\\sutra2\\research\\mpw_mboremoval phreatic\n",
      "\n",
      "FloPy is using the following executable to run the model: .\\mf2005.exe\n",
      "\n",
      "                                  MODFLOW-2005     \n",
      "    U.S. GEOLOGICAL SURVEY MODULAR FINITE-DIFFERENCE GROUND-WATER FLOW MODEL\n",
      "                             Version 1.9.01 5/01/2012                        \n",
      "\n",
      " Using NAME file: phreatic.nam \n",
      " Run start date and time (yyyy/mm/dd hh:mm:ss): 2022/07/28 10:33:34\n",
      "\n",
      " Solving:  Stress period:     1    Time step:     1    Ground-Water Flow Eqn.\n",
      " Run end date and time (yyyy/mm/dd hh:mm:ss): 2022/07/28 10:33:34\n",
      " Elapsed run time:  0.045 Seconds\n",
      "\n",
      "  Normal termination of simulation\n",
      "Model run d:\\Sutra2_tool\\sutra2\\research\\mpw_mboremoval phreatic completed without errors: True\n",
      "Run modpath: d:\\Sutra2_tool\\sutra2\\research\\mpw_mboremoval phreatic\n",
      "\n",
      "FloPy is using the following executable to run the model: .\\mpath7.exe\n",
      "\n",
      "MODPATH Version 7.2.001   \n",
      "Program compiled Dec 22 2017 11:11:36 with IFORT compiler (ver. 16.0.0)         \n",
      " \n",
      " \n",
      "Run particle tracking simulation ...\n",
      "Processing Time Step     1 Period     1.  Time =  1.82500E+04  Steady-state flow                                                    \n",
      "\n",
      "Particle Summary:\n",
      "         0 particles are pending release.\n",
      "         0 particles remain active.\n",
      "         0 particles terminated at boundary faces.\n",
      "         0 particles terminated at weak sink cells.\n",
      "         0 particles terminated at weak source cells.\n",
      "        50 particles terminated at strong source/sink cells.\n",
      "         0 particles terminated in cells with a specified zone number.\n",
      "         0 particles were stranded in inactive or dry cells.\n",
      "         0 particles were unreleased.\n",
      "         0 particles have an unknown status.\n",
      " \n",
      "Normal termination.                                                        \n",
      "ModPath run d:\\Sutra2_tool\\sutra2\\research\\mpw_mboremoval phreatic completed succesfully.\n",
      "modelrun of type phreatic completed.\n",
      "Post-processing modpathrun completed.\n"
     ]
    }
   ],
   "source": [
    "# First, rerun the model to recalculate df_particle and df_flowline\n",
    "modpath_phrea.run_model(run_mfmodel = True,\n",
    "                    run_mpmodel = True)\n"
   ]
  },
  {
   "cell_type": "code",
   "execution_count": 104,
   "metadata": {},
   "outputs": [
    {
     "name": "stdout",
     "output_type": "stream",
     "text": [
      "{'organism_name': 'carotovorum', 'alpha0': {'suboxic': 0.3, 'anoxic': 0.577, 'deeply_anoxic': 0.577}, 'pH0': {'suboxic': 7.5, 'anoxic': 7.5, 'deeply_anoxic': 7.5}, 'organism_diam': 1.803e-06, 'mu1': {'suboxic': 1.2664, 'anoxic': 0.1279, 'deeply_anoxic': 0.1279}}\n",
      "Final concentration well1: 0.0\n"
     ]
    }
   ],
   "source": [
    "# removal parameters carotovorum (default)\n",
    "organism_carotovorum = TR.MicrobialOrganism(organism_name = \"carotovorum\")\n",
    "print(organism_carotovorum.organism_dict)\n",
    "\n",
    "# Transport object\n",
    "phreatic_transport = TR.Transport(modpath_phrea, pollutant = organism_carotovorum)\n",
    "# keep track of final cocnentration per endpoint_id\n",
    "C_final = {}\n",
    "# Update df_flowline and df_particle. Calculate final concentration at endpoint_id(s)\n",
    "for endpoint_id in endpoint_ids:\n",
    "    df_particle, df_flowline, C_final[endpoint_id] = phreatic_transport.calc_advective_microbial_removal( \n",
    "                                                endpoint_id = endpoint_id)\n",
    "    print(f\"Final concentration {endpoint_id}: {C_final[endpoint_id]}\")\n"
   ]
  },
  {
   "cell_type": "code",
   "execution_count": 105,
   "metadata": {},
   "outputs": [
    {
     "ename": "SyntaxError",
     "evalue": "closing parenthesis ']' does not match opening parenthesis '(' (433262639.py, line 2)",
     "output_type": "error",
     "traceback": [
      "\u001b[1;36m  File \u001b[1;32m\"C:\\Users\\rosst\\AppData\\Local\\Temp\\ipykernel_3424\\433262639.py\"\u001b[1;36m, line \u001b[1;32m2\u001b[0m\n\u001b[1;33m    carotovorum_plot = phreatic_transport.plot_concentration(ylim=2*C_final[endpoint_id]], as_fraction_input = True)\u001b[0m\n\u001b[1;37m                                                                                        ^\u001b[0m\n\u001b[1;31mSyntaxError\u001b[0m\u001b[1;31m:\u001b[0m closing parenthesis ']' does not match opening parenthesis '('\n"
     ]
    }
   ],
   "source": [
    "# Plot the breakthrough concentration\n",
    "carotovorum_plot = phreatic_transport.plot_concentration(ylim=2*C_final[endpoint_id]], as_fraction_input = True)"
   ]
  },
  {
   "cell_type": "markdown",
   "metadata": {},
   "source": [
    "species: solanacearum (default)\n",
    "--------------------------------"
   ]
  },
  {
   "cell_type": "code",
   "execution_count": null,
   "metadata": {},
   "outputs": [
    {
     "name": "stdout",
     "output_type": "stream",
     "text": [
      "Run phreatic model\n",
      "Run model: d:\\Sutra2_tool\\sutra2\\research\\mpw_mboremoval phreatic\n",
      "\n",
      "FloPy is using the following executable to run the model: .\\mf2005.exe\n",
      "\n",
      "                                  MODFLOW-2005     \n",
      "    U.S. GEOLOGICAL SURVEY MODULAR FINITE-DIFFERENCE GROUND-WATER FLOW MODEL\n",
      "                             Version 1.9.01 5/01/2012                        \n",
      "\n",
      " Using NAME file: phreatic.nam \n",
      " Run start date and time (yyyy/mm/dd hh:mm:ss): 2022/07/28 10:24:46\n",
      "\n",
      " Solving:  Stress period:     1    Time step:     1    Ground-Water Flow Eqn.\n",
      " Run end date and time (yyyy/mm/dd hh:mm:ss): 2022/07/28 10:24:46\n",
      " Elapsed run time:  0.040 Seconds\n",
      "\n",
      "  Normal termination of simulation\n",
      "Model run d:\\Sutra2_tool\\sutra2\\research\\mpw_mboremoval phreatic completed without errors: True\n",
      "Run modpath: d:\\Sutra2_tool\\sutra2\\research\\mpw_mboremoval phreatic\n",
      "\n",
      "FloPy is using the following executable to run the model: .\\mpath7.exe\n",
      "\n",
      "MODPATH Version 7.2.001   \n",
      "Program compiled Dec 22 2017 11:11:36 with IFORT compiler (ver. 16.0.0)         \n",
      " \n",
      " \n",
      "Run particle tracking simulation ...\n",
      "Processing Time Step     1 Period     1.  Time =  1.82500E+04  Steady-state flow                                                    \n",
      "\n",
      "Particle Summary:\n",
      "         0 particles are pending release.\n",
      "         0 particles remain active.\n",
      "         0 particles terminated at boundary faces.\n",
      "         0 particles terminated at weak sink cells.\n",
      "         0 particles terminated at weak source cells.\n",
      "        50 particles terminated at strong source/sink cells.\n",
      "         0 particles terminated in cells with a specified zone number.\n",
      "         0 particles were stranded in inactive or dry cells.\n",
      "         0 particles were unreleased.\n",
      "         0 particles have an unknown status.\n",
      " \n",
      "Normal termination.                                                        \n",
      "ModPath run d:\\Sutra2_tool\\sutra2\\research\\mpw_mboremoval phreatic completed succesfully.\n",
      "modelrun of type phreatic completed.\n",
      "Post-processing modpathrun completed.\n",
      "{'organism_name': 'solanacearum', 'alpha0': {'suboxic': 0.011, 'anoxic': 0.456, 'deeply_anoxic': 0.456}, 'pH0': {'suboxic': 7.5, 'anoxic': 7.5, 'deeply_anoxic': 7.5}, 'organism_diam': 1.945e-06, 'mu1': {'suboxic': 0.3519, 'anoxic': 0.1637, 'deeply_anoxic': 0.1637}}\n",
      "Final concentration well1: 0.0\n"
     ]
    }
   ],
   "source": [
    "# First, rerun the model to recalculate df_particle and df_flowline\n",
    "modpath_phrea.run_model(run_mfmodel = True,\n",
    "                    run_mpmodel = True)\n"
   ]
  },
  {
   "cell_type": "code",
   "execution_count": null,
   "metadata": {},
   "outputs": [],
   "source": [
    "\n",
    "# removal parameters solanacearum (default)\n",
    "organism_solanacearum = TR.MicrobialOrganism(organism_name = \"solanacearum\")\n",
    "print(organism_solanacearum.organism_dict)\n",
    "\n",
    "# Transport object\n",
    "phreatic_transport = TR.Transport(modpath_phrea, pollutant = organism_solanacearum)\n",
    "# keep track of final cocnentration per endpoint_id\n",
    "C_final = {}\n",
    "# Update df_flowline and df_particle. Calculate final concentration at endpoint_id(s)\n",
    "for endpoint_id in endpoint_ids:\n",
    "    df_particle, df_flowline, C_final[endpoint_id] = phreatic_transport.calc_advective_microbial_removal( \n",
    "                                                endpoint_id = endpoint_id)\n",
    "    print(f\"Final concentration {endpoint_id}: {C_final[endpoint_id]}\")\n"
   ]
  },
  {
   "cell_type": "code",
   "execution_count": null,
   "metadata": {},
   "outputs": [
    {
     "data": {
      "image/png": "[encoded data removed]",
      "text/plain": [
       "<Figure size 720x360 with 1 Axes>"
      ]
     },
     "metadata": {
      "needs_background": "light"
     },
     "output_type": "display_data"
    }
   ],
   "source": [
    "solanacearum_plot = phreatic_transport.plot_concentration(ylim=2*C_final[endpoint_id]], as_fraction_input = True)"
   ]
  },
  {
   "cell_type": "markdown",
   "metadata": {},
   "source": [
    "species: MS2 -virus (manual input)\n",
    "-----------------------------------"
   ]
  },
  {
   "cell_type": "markdown",
   "metadata": {},
   "source": [
    "Define removal parameters"
   ]
  },
  {
   "cell_type": "code",
   "execution_count": null,
   "metadata": {},
   "outputs": [],
   "source": [
    "# microbial removal properties of microbial organism\n",
    "organism_name = 'MS2'\n",
    "# reference_collision_efficiency [-]\n",
    "alpha0 = {\"suboxic\": 1.e-3, \"anoxic\": 1.e-5, \"deeply_anoxic\": 1.e-5}\n",
    "# reference pH for calculating collision efficiency [-]\n",
    "pH0 = {\"suboxic\": 6.6, \"anoxic\": 6.8, \"deeply_anoxic\": 6.8}\n",
    "# diameter of pathogen/species [m]\n",
    "organism_diam =  2.33e-8\n",
    "# inactivation coefficient [1/day]\n",
    "mu1 = {\"suboxic\": 0.149,\"anoxic\": 0.023,\"deeply_anoxic\": 0.023}\n",
    "# removal parameters for MS2 (manual input MicrobialOrganism)\n",
    "organism_MS2 = TR.MicrobialOrganism(organism_name = organism_name,\n",
    "                                    alpha0_suboxic = alpha0[\"suboxic\"],\n",
    "                                    alpha0_anoxic = alpha0[\"anoxic\"],\n",
    "                                    alpha0_deeply_anoxic = alpha0[\"deeply_anoxic\"],\n",
    "                                    pH0_suboxic = pH0[\"suboxic\"],\n",
    "                                    pH0_anoxic = pH0[\"anoxic\"],\n",
    "                                    pH0_deeply_anoxic = pH0[\"deeply_anoxic\"],\n",
    "                                    mu1_suboxic = mu1[\"suboxic\"],\n",
    "                                    mu1_anoxic = mu1[\"anoxic\"],\n",
    "                                    mu1_deeply_anoxic = mu1[\"deeply_anoxic\"],\n",
    "                                    organism_diam = organism_diam)"
   ]
  },
  {
   "cell_type": "code",
   "execution_count": null,
   "metadata": {},
   "outputs": [],
   "source": [
    "# First, rerun the model to recalculate df_particle and df_flowline\n",
    "modpath_phrea.run_model(run_mfmodel = True,\n",
    "                    run_mpmodel = True)"
   ]
  },
  {
   "cell_type": "markdown",
   "metadata": {},
   "source": [
    "Call the transport object and calculate the mbo removal"
   ]
  },
  {
   "cell_type": "code",
   "execution_count": null,
   "metadata": {},
   "outputs": [
    {
     "name": "stdout",
     "output_type": "stream",
     "text": [
      "{'organism_name': 'MS2', 'alpha0': {'suboxic': 0.001, 'anoxic': 1e-05, 'deeply_anoxic': 1e-05}, 'pH0': {'suboxic': 6.6, 'anoxic': 6.8, 'deeply_anoxic': 6.8}, 'organism_diam': 2.33e-08, 'mu1': {'suboxic': 0.149, 'anoxic': 0.023, 'deeply_anoxic': 0.023}}\n",
      "Final concentration well1: 7.746518691818823e-40\n"
     ]
    }
   ],
   "source": [
    "# Transport object\n",
    "phreatic_transport = TR.Transport(modpath_phrea, pollutant = organism_MS2)\n",
    "print(organism_MS2.organism_dict)\n",
    "\n",
    "# keep track of final cocnentration per endpoint_id\n",
    "C_final = {}\n",
    "# Update df_flowline and df_particle. Calculate final concentration at endpoint_id(s)\n",
    "for endpoint_id in endpoint_ids:\n",
    "    df_particle, df_flowline, C_final[endpoint_id] = phreatic_transport.calc_advective_microbial_removal( \n",
    "                                                endpoint_id = endpoint_id)\n",
    "    print(f\"Final concentration {endpoint_id}: {C_final[endpoint_id]}\")"
   ]
  },
  {
   "cell_type": "markdown",
   "metadata": {},
   "source": [
    "Plot the breakthrough concentration"
   ]
  },
  {
   "cell_type": "code",
   "execution_count": null,
   "metadata": {},
   "outputs": [
    {
     "data": {
      "image/png": "[encoded data removed]",
      "text/plain": [
       "<Figure size 720x360 with 1 Axes>"
      ]
     },
     "metadata": {
      "needs_background": "light"
     },
     "output_type": "display_data"
    }
   ],
   "source": [
    "MS2_plot = phreatic_transport.plot_concentration(ylim=[0,2*C_final[endpoint_id]], as_fraction_input = True)"
   ]
  }
 ],
 "metadata": {
  "kernelspec": {
   "display_name": "Python 3.9.5 ('base')",
   "language": "python",
   "name": "python3"
  },
  "language_info": {
   "codemirror_mode": {
    "name": "ipython",
    "version": 3
   },
   "file_extension": ".py",
   "mimetype": "text/x-python",
   "name": "python",
   "nbconvert_exporter": "python",
   "pygments_lexer": "ipython3",
   "version": "3.9.5"
  },
  "orig_nbformat": 4,
  "vscode": {
   "interpreter": {
    "hash": "b1927a54a93164515be0cd943a58faec848a387ed14458738e2b63e769905115"
   }
  }
 },
 "nbformat": 4,
 "nbformat_minor": 2
}
