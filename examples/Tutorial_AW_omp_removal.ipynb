{
 "cells": [
  {
   "cell_type": "markdown",
   "metadata": {},
   "source": [
    "--------------------------------------------------------------------------------\n",
    "Travel time calculation using AnalyticalWell class, combined with 'omp removal'\n",
    "--------------------------------------------------------------------------------\n",
    "\n",
    "Basic example to calculate the travel time distribution per geological layer for a \n",
    "phreatic scheme, and to calculate the OMP removal. \n",
    "\n",
    "Import packages\n",
    "-----------------\n",
    "\n",
    "First we import the necessary python packages"
   ]
  },
  {
   "cell_type": "code",
   "execution_count": 1,
   "metadata": {},
   "outputs": [
    {
     "ename": "ModuleNotFoundError",
     "evalue": "No module named 'set_cwd_to_project_root'",
     "output_type": "error",
     "traceback": [
      "\u001b[1;31m---------------------------------------------------------------------------\u001b[0m",
      "\u001b[1;31mModuleNotFoundError\u001b[0m                       Traceback (most recent call last)",
      "\u001b[1;32m~\\AppData\\Local\\Temp/ipykernel_4100/906371466.py\u001b[0m in \u001b[0;36m<module>\u001b[1;34m\u001b[0m\n\u001b[0;32m      1\u001b[0m \u001b[1;32mimport\u001b[0m \u001b[0mpandas\u001b[0m \u001b[1;32mas\u001b[0m \u001b[0mpd\u001b[0m\u001b[1;33m\u001b[0m\u001b[1;33m\u001b[0m\u001b[0m\n\u001b[0;32m      2\u001b[0m \u001b[1;32mfrom\u001b[0m \u001b[0mpathlib\u001b[0m \u001b[1;32mimport\u001b[0m \u001b[0mPath\u001b[0m\u001b[1;33m\u001b[0m\u001b[1;33m\u001b[0m\u001b[0m\n\u001b[1;32m----> 3\u001b[1;33m \u001b[1;32mfrom\u001b[0m \u001b[0mset_cwd_to_project_root\u001b[0m \u001b[1;32mimport\u001b[0m \u001b[0mproject_root\u001b[0m\u001b[1;33m\u001b[0m\u001b[1;33m\u001b[0m\u001b[0m\n\u001b[0m\u001b[0;32m      4\u001b[0m \u001b[1;33m\u001b[0m\u001b[0m\n\u001b[0;32m      5\u001b[0m \u001b[1;32mimport\u001b[0m \u001b[0mmatplotlib\u001b[0m\u001b[1;33m.\u001b[0m\u001b[0mpyplot\u001b[0m \u001b[1;32mas\u001b[0m \u001b[0mplt\u001b[0m\u001b[1;33m\u001b[0m\u001b[1;33m\u001b[0m\u001b[0m\n",
      "\u001b[1;31mModuleNotFoundError\u001b[0m: No module named 'set_cwd_to_project_root'"
     ]
    }
   ],
   "source": [
    "import pandas as pd\n",
    "from pathlib import Path\n",
    "from set_cwd_to_project_root import project_root\n",
    "\n",
    "import matplotlib.pyplot as plt\n",
    "import numpy as np\n",
    "import pandas as pd\n",
    "import os\n",
    "from pandas import read_csv\n",
    "from pandas import read_excel\n",
    "import math\n",
    "from scipy.special import kn as besselk\n",
    "import sutra2.Analytical_Well as AW\n",
    "import sutra2.ModPath_Well as mpw\n",
    "import sutra2.Transport_Removal as TR\n",
    "\n",
    "# # get directory of this file\n",
    "# path = Path(__file__).parent\n",
    "# %load_ext autoreload\n",
    "# %autoreload 2"
   ]
  },
  {
   "cell_type": "markdown",
   "metadata": {},
   "source": [
    "Step 1: Define the HydroChemicalSchematisation\n",
    "-----------------------------------------------\n",
    "The first step is to define the hydrogeochemistry of the system using the HydroChemicalSchematisation class.\n",
    "In this class you specify the:\n",
    "\n",
    "* Computational method ('analytical' or 'modpath').\n",
    "* The schematisation type ('phreatic', 'semiconfined',...) \n",
    "note: schematisation types 'riverbankfiltration', 'basinfiltration' yet to be supported\n",
    "* Input the relevant parameters for the porous media, the hydrochemistry, hydrology and the flow parameters of interest\n",
    "\n",
    "The class parameters can be roughly grouped into the following categories:\n",
    "\n",
    "* System.\n",
    "* Settings.\n",
    "* Porous Medium\n",
    "* Hydrochemistry\n",
    "* Hydrology\n",
    "* Diffuse contamination\n",
    "* Point Contamination\n",
    "* Model size\n",
    "\n",
    "Units of input are:\n",
    "\n",
    "* Discharge : m3/d\n",
    "* Time: days\n",
    "* Length: meters\n",
    "* Concentration: ug/L\n",
    "* Temperature: degree C\n",
    "* Depth: meters above sea level (m ASL)\n",
    "* Density: kg/L\n",
    "* DOC/TOC: mg/L\n",
    "\n",
    "Lets start with a simple example defining a HydroChemicalSchematisation object for a phreatic aquifer:\n"
   ]
  },
  {
   "cell_type": "code",
   "execution_count": null,
   "metadata": {},
   "outputs": [],
   "source": [
    "phreatic_schematisation = AW.HydroChemicalSchematisation(schematisation_type='phreatic',\n",
    "                                                    computation_method='analytical',\n",
    "                                                    well_discharge=-7500, #m3/day\n",
    "                                                    recharge_rate=0.0008, #m/day\n",
    "                                                    thickness_vadose_zone_at_boundary=5, #m\n",
    "                                                    thickness_shallow_aquifer=10,  #m\n",
    "                                                    thickness_target_aquifer=40, #m\n",
    "                                                    hor_permeability_target_aquifer=35, #m/day\n",
    "                                                    redox_vadose_zone='anoxic',\n",
    "                                                    redox_shallow_aquifer='anoxic',\n",
    "                                                    redox_target_aquifer='deeply_anoxic',\n",
    "                                                    pH_target_aquifer=7.,\n",
    "                                                    temp_water=11.,\n",
    "                                                    diffuse_input_concentration = 100, #ug/L\n",
    "                                                    )\n"
   ]
  },
  {
   "cell_type": "markdown",
   "metadata": {},
   "source": [
    "The parameters from the HydroChemicalSchematisation class are added as attributes to\n",
    "the class and can be accessed for example:"
   ]
  },
  {
   "cell_type": "code",
   "execution_count": null,
   "metadata": {},
   "outputs": [
    {
     "data": {
      "text/plain": [
       "0.35"
      ]
     },
     "execution_count": 4,
     "metadata": {},
     "output_type": "execute_result"
    }
   ],
   "source": [
    "phreatic_schematisation.schematisation_type\n",
    "phreatic_schematisation.well_discharge\n",
    "phreatic_schematisation.porosity_shallow_aquifer"
   ]
  },
  {
   "cell_type": "markdown",
   "metadata": {},
   "source": [
    "If not defined, default values are used for the rest of the parameters. To view all parameters in the schematisation:"
   ]
  },
  {
   "cell_type": "code",
   "execution_count": null,
   "metadata": {},
   "outputs": [
    {
     "data": {
      "text/plain": [
       "{'schematisation_type': 'phreatic',\n",
       " 'computation_method': 'analytical',\n",
       " 'removal_function': 'omp',\n",
       " 'what_to_export': 'all',\n",
       " 'well_name': 'well1',\n",
       " 'temp_correction_Koc': True,\n",
       " 'temp_correction_halflife': True,\n",
       " 'biodegradation_sorbed_phase': True,\n",
       " 'compute_thickness_vadose_zone': True,\n",
       " 'ground_surface': 0.0,\n",
       " 'thickness_vadose_zone_at_boundary': 5,\n",
       " 'bottom_vadose_zone_at_boundary': -5.0,\n",
       " 'thickness_shallow_aquifer': 10,\n",
       " 'bottom_shallow_aquifer': -15.0,\n",
       " 'thickness_target_aquifer': 40,\n",
       " 'bottom_target_aquifer': -55.0,\n",
       " 'thickness_full_capillary_fringe': 0.0,\n",
       " 'porosity_vadose_zone': 0.35,\n",
       " 'porosity_shallow_aquifer': 0.35,\n",
       " 'porosity_target_aquifer': 0.35,\n",
       " 'porosity_gravelpack': 0.35,\n",
       " 'porosity_clayseal': 0.35,\n",
       " 'moisture_content_vadose_zone': 0.2,\n",
       " 'solid_density_vadose_zone': 2.65,\n",
       " 'solid_density_shallow_aquifer': 2.65,\n",
       " 'solid_density_target_aquifer': 2.65,\n",
       " 'fraction_organic_carbon_vadose_zone': 0.001,\n",
       " 'fraction_organic_carbon_shallow_aquifer': 0.0005,\n",
       " 'fraction_organic_carbon_target_aquifer': 0.0005,\n",
       " 'grainsize_vadose_zone': 0.00025,\n",
       " 'grainsize_shallow_aquifer': 0.00025,\n",
       " 'grainsize_target_aquifer': 0.00025,\n",
       " 'redox_vadose_zone': 'anoxic',\n",
       " 'redox_shallow_aquifer': 'anoxic',\n",
       " 'redox_target_aquifer': 'deeply_anoxic',\n",
       " 'dissolved_organic_carbon_vadose_zone': 0.0,\n",
       " 'dissolved_organic_carbon_shallow_aquifer': 0.0,\n",
       " 'dissolved_organic_carbon_target_aquifer': 0.0,\n",
       " 'dissolved_organic_carbon_infiltration_water': 0.0,\n",
       " 'total_organic_carbon_infiltration_water': 0.0,\n",
       " 'pH_vadose_zone': 7.0,\n",
       " 'pH_shallow_aquifer': 7.0,\n",
       " 'pH_target_aquifer': 7.0,\n",
       " 'temp_water': 11.0,\n",
       " 'temperature_vadose_zone': 11.0,\n",
       " 'temperature_shallow_aquifer': 11.0,\n",
       " 'temperature_target_aquifer': 11.0,\n",
       " 'recharge_rate': 0.0008,\n",
       " 'well_discharge': -7500,\n",
       " 'basin_length': None,\n",
       " 'basin_width': None,\n",
       " 'basin_xmin': None,\n",
       " 'basin_xmax': None,\n",
       " 'bottom_basin': None,\n",
       " 'bottom_sludge': None,\n",
       " 'hor_permeability_sludge': None,\n",
       " 'vertical_anisotropy_sludge': None,\n",
       " 'head_basin': None,\n",
       " 'basin_infiltration_rate': None,\n",
       " 'travel_time_h20_shallow_aquifer': None,\n",
       " 'minimum_travel_time_h20_shallow_aquifer': None,\n",
       " 'travel_time_h20_deeper_aquifer': None,\n",
       " 'minimum_travel_time_h20_target_aquifer': None,\n",
       " 'diameter_borehole': 0.75,\n",
       " 'top_filterscreen': -15.0,\n",
       " 'bottom_filterscreen': -55.0,\n",
       " 'diameter_filterscreen': 0.2,\n",
       " 'inner_diameter_filterscreen': 0.2,\n",
       " 'top_gravelpack': -15.0,\n",
       " 'bottom_gravelpack': -55.0,\n",
       " 'diameter_gravelpack': 0.75,\n",
       " 'inner_diameter_gravelpack': 0.2,\n",
       " 'grainsize_gravelpack': 0.001,\n",
       " 'top_clayseal': 0.0,\n",
       " 'bottom_clayseal': -15.0,\n",
       " 'diameter_clayseal': 0.75,\n",
       " 'inner_diameter_clayseal': 0.2,\n",
       " 'grainsize_clayseal': 1e-06,\n",
       " 'hor_permeability_shallow_aquifer': 1.0,\n",
       " 'hor_permeability_target_aquifer': 35,\n",
       " 'hor_permeability_gravelpack': 1000,\n",
       " 'hor_permeability_clayseal': 0.001,\n",
       " 'vertical_anisotropy_shallow_aquifer': 1.0,\n",
       " 'vertical_anisotropy_target_aquifer': 1.0,\n",
       " 'vertical_anisotropy_gravelpack': 1.0,\n",
       " 'vertical_anisotropy_clayseal': 1.0,\n",
       " 'vertical_permeability_target_aquifer': 35.0,\n",
       " 'vertical_permeability_shallow_aquifer': 1.0,\n",
       " 'vertical_resistance_shallow_aquifer': 10.0,\n",
       " 'KD': 1400,\n",
       " 'groundwater_level': -5.0,\n",
       " 'organism': None,\n",
       " 'substance': None,\n",
       " 'diffuse_input_concentration': 100,\n",
       " 'point_input_concentration': None,\n",
       " 'start_date_well': datetime.datetime(1950, 1, 1, 0, 0),\n",
       " 'start_date_contamination': datetime.datetime(1950, 1, 1, 0, 0),\n",
       " 'compute_contamination_for_date': datetime.datetime(2000, 1, 1, 0, 0),\n",
       " 'end_date_contamination': None,\n",
       " 'depth_point_contamination': 0.0,\n",
       " 'distance_point_contamination_from_well': array([[1]]),\n",
       " 'discharge_point_contamination': None,\n",
       " 'source_area_radius': None,\n",
       " 'number_of_spreading_distance': None,\n",
       " 'model_radius': 1727.4707473566773,\n",
       " 'model_width': 1,\n",
       " 'model_radius_computed': None,\n",
       " 'relative_position_starting_points_radial': None,\n",
       " 'relative_position_starting_points_in_basin': None,\n",
       " 'relative_position_starting_points_outside_basin': None,\n",
       " 'particle_release_day': None,\n",
       " 'ncols_near_well': 20,\n",
       " 'ncols_far_well': 30,\n",
       " 'nlayers_shallow_aquifer': 10,\n",
       " 'nlayers_target_aquifer': 40}"
      ]
     },
     "execution_count": 5,
     "metadata": {},
     "output_type": "execute_result"
    }
   ],
   "source": [
    "phreatic_schematisation.__dict__"
   ]
  },
  {
   "cell_type": "markdown",
   "metadata": {},
   "source": [
    "____________________________________\n",
    "\n",
    "\n",
    "Step 2: Run the AnalyticalWell class\n",
    "-------------------------------------\n",
    "Next we create an AnalyticalWell object for the HydroChemicalSchematisation object we just made.\n"
   ]
  },
  {
   "cell_type": "code",
   "execution_count": null,
   "metadata": {},
   "outputs": [],
   "source": [
    "phreatic_well = AW.AnalyticalWell(phreatic_schematisation)"
   ]
  },
  {
   "cell_type": "markdown",
   "metadata": {},
   "source": [
    "Then we calculate the travel time for each of the zones unsaturated, shallow aquifer and target aquifer zones\n",
    "by running the .phreatic() function for the well object. "
   ]
  },
  {
   "cell_type": "code",
   "execution_count": null,
   "metadata": {},
   "outputs": [],
   "source": [
    "phreatic_well.phreatic()"
   ]
  },
  {
   "cell_type": "markdown",
   "metadata": {},
   "source": [
    "From the AnalyticalWell class two other important outputs are:\n",
    "\n",
    "* df_particle - Pandas dataframe with data about the different flowlines per zone (unsaturated/shallow/target)\n",
    "* df_flowline - Pandas dataframe with data about the flowlines per flowline (eg. total travel time per flowline)\n",
    "\n",
    "____________________________________\n",
    "\n",
    "\n",
    "Step 3: Collect removal parameters for the OMP (substance)\n",
    "------------------------------------------------------------\n",
    "\n",
    "You can retrieve the default removal parameters used to calculate the removal of organic micropollutants [OMP] \n",
    "in the SubstanceTransport class. The data are stored in a dictionary\n"
   ]
  },
  {
   "cell_type": "code",
   "execution_count": null,
   "metadata": {},
   "outputs": [
    {
     "ename": "NameError",
     "evalue": "name 'TR' is not defined",
     "output_type": "error",
     "traceback": [
      "\u001b[1;31m---------------------------------------------------------------------------\u001b[0m",
      "\u001b[1;31mNameError\u001b[0m                                 Traceback (most recent call last)",
      "\u001b[1;32m~\\AppData\\Local\\Temp/ipykernel_13964/950912583.py\u001b[0m in \u001b[0;36m<module>\u001b[1;34m\u001b[0m\n\u001b[1;32m----> 1\u001b[1;33m \u001b[0mtest_substance\u001b[0m \u001b[1;33m=\u001b[0m \u001b[0mTR\u001b[0m\u001b[1;33m.\u001b[0m\u001b[0mSubstance\u001b[0m\u001b[1;33m(\u001b[0m\u001b[0msubstance_name\u001b[0m\u001b[1;33m=\u001b[0m\u001b[1;34m'benzene'\u001b[0m\u001b[1;33m)\u001b[0m\u001b[1;33m\u001b[0m\u001b[1;33m\u001b[0m\u001b[0m\n\u001b[0m\u001b[0;32m      2\u001b[0m \u001b[0mtest_substance\u001b[0m\u001b[1;33m.\u001b[0m\u001b[0msubstance_dict\u001b[0m\u001b[1;33m\u001b[0m\u001b[1;33m\u001b[0m\u001b[0m\n",
      "\u001b[1;31mNameError\u001b[0m: name 'TR' is not defined"
     ]
    }
   ],
   "source": [
    "test_substance = TR.Substance(substance_name='benzene')\n",
    "test_substance.substance_dict"
   ]
  }
 ],
 "metadata": {
  "kernelspec": {
   "display_name": "Python 3.9.5 ('base')",
   "language": "python",
   "name": "python3"
  },
  "language_info": {
   "codemirror_mode": {
    "name": "ipython",
    "version": 3
   },
   "file_extension": ".py",
   "mimetype": "text/x-python",
   "name": "python",
   "nbconvert_exporter": "python",
   "pygments_lexer": "ipython3",
   "version": "3.9.5"
  },
  "orig_nbformat": 4,
  "vscode": {
   "interpreter": {
    "hash": "b1927a54a93164515be0cd943a58faec848a387ed14458738e2b63e769905115"
   }
  }
 },
 "nbformat": 4,
 "nbformat_minor": 2
}
